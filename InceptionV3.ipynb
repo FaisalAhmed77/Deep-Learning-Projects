{
 "cells": [
  {
   "cell_type": "code",
   "execution_count": 1,
   "id": "e672616b",
   "metadata": {},
   "outputs": [],
   "source": [
    "# load and display an image with Matplotlib\n",
    "from matplotlib import image\n",
    "from matplotlib import pyplot\n",
    "import matplotlib.pyplot as plt\n",
    "from PIL import Image\n",
    "import pandas as pd\n",
    "import numpy as np\n",
    "import seaborn as sns\n",
    "import glob\n"
   ]
  },
  {
   "cell_type": "code",
   "execution_count": 2,
   "id": "5eec04ee",
   "metadata": {},
   "outputs": [],
   "source": [
    "file = \"C://Users/16823/Desktop/Research Papers/Retinal_Datasets/iChallenge-AMD-Training400/Non-AMD/\" \n",
    "\n",
    "img_file = list(glob.glob1(file, \"*.jpg\"))\n",
    "img = []\n",
    "for i in img_file:\n",
    "    img.append(i)\n",
    "\n",
    "data = []\n",
    "for i in img:\n",
    "    image_path = file + i\n",
    "    gray=Image.open(image_path)\n",
    "    gray_resiz = gray.resize((256, 256))\n",
    "    arr_gray = np.array(gray_resiz)\n",
    "    data.append(arr_gray)\n"
   ]
  },
  {
   "cell_type": "code",
   "execution_count": 3,
   "id": "6bc5da3c",
   "metadata": {},
   "outputs": [],
   "source": [
    "d = np.array(data)\n"
   ]
  },
  {
   "cell_type": "code",
   "execution_count": 4,
   "id": "4a884e3e",
   "metadata": {},
   "outputs": [
    {
     "data": {
      "text/plain": [
       "(311, 256, 256, 3)"
      ]
     },
     "execution_count": 4,
     "metadata": {},
     "output_type": "execute_result"
    }
   ],
   "source": [
    "d.shape"
   ]
  },
  {
   "cell_type": "code",
   "execution_count": 5,
   "id": "67e94c69",
   "metadata": {},
   "outputs": [],
   "source": [
    "file1 = \"C://Users/16823/Desktop/Research Papers/Retinal_Datasets/iChallenge-AMD-Training400/AMD/\" \n",
    "\n",
    "img_file1 = list(glob.glob1(file1, \"*.jpg\"))\n",
    "img1 = []\n",
    "for i in img_file1:\n",
    "    img1.append(i)\n",
    "\n",
    "data1 = []\n",
    "for i in img1:\n",
    "    image_path1 = file1 + i\n",
    "    gray1=Image.open(image_path1)\n",
    "    gray_resiz1 = gray1.resize((256, 256))\n",
    "    arr_gray1 = np.array(gray_resiz1)\n",
    "    data1.append(arr_gray1)\n"
   ]
  },
  {
   "cell_type": "code",
   "execution_count": 6,
   "id": "92b86fcf",
   "metadata": {},
   "outputs": [],
   "source": [
    "d1 = np.array(data1)\n"
   ]
  },
  {
   "cell_type": "code",
   "execution_count": 7,
   "id": "c8c658c6",
   "metadata": {},
   "outputs": [
    {
     "data": {
      "text/plain": [
       "(89, 256, 256, 3)"
      ]
     },
     "execution_count": 7,
     "metadata": {},
     "output_type": "execute_result"
    }
   ],
   "source": [
    "d1.shape"
   ]
  },
  {
   "cell_type": "code",
   "execution_count": 8,
   "id": "43ec1073",
   "metadata": {},
   "outputs": [
    {
     "data": {
      "text/plain": [
       "(400, 256, 256, 3)"
      ]
     },
     "execution_count": 8,
     "metadata": {},
     "output_type": "execute_result"
    }
   ],
   "source": [
    "df = np.concatenate((d, d1), axis = 0)\n",
    "df.shape"
   ]
  },
  {
   "cell_type": "code",
   "execution_count": 9,
   "id": "5f2936f1",
   "metadata": {},
   "outputs": [],
   "source": [
    "d_label = [0]*311\n",
    "d1_label = [1]*89"
   ]
  },
  {
   "cell_type": "code",
   "execution_count": 10,
   "id": "62619bea",
   "metadata": {},
   "outputs": [],
   "source": [
    "y = np.concatenate([d_label, d1_label])\n"
   ]
  },
  {
   "cell_type": "code",
   "execution_count": 11,
   "id": "1989d4a3",
   "metadata": {},
   "outputs": [],
   "source": [
    "import keras\n",
    "from keras.models import Model\n",
    "from keras.layers import Dense, Input\n",
    "from keras.layers import Conv2D, MaxPooling2D, Dropout, Flatten\n",
    "from keras import backend as k\n",
    "from keras.utils import np_utils"
   ]
  },
  {
   "cell_type": "code",
   "execution_count": 12,
   "id": "aec34bd1",
   "metadata": {},
   "outputs": [],
   "source": [
    "# # #Spliting the data in 80:20 training to testing\n",
    "from sklearn.model_selection import train_test_split\n",
    "x_train, x_test, y_train, y_test = train_test_split(df, y, test_size = 0.2, random_state = 0)\n",
    "\n",
    "# x_train = pd.concat([df.iloc[:135, :100], df.iloc[168:303,:100]], axis = 0, ignore_index = True).values\n",
    "# x_test =pd.concat([df.iloc[135:168, :100], df.iloc[303:,:100]], axis = 0, ignore_index = True).values\n",
    "# y_train = pd.concat([df.iloc[:135, 100], df.iloc[168:303,100]], axis = 0, ignore_index = True).values\n",
    "# y_test = pd.concat([df.iloc[135:168, 100], df.iloc[303:, 100]], axis = 0, ignore_index = True).values\n"
   ]
  },
  {
   "cell_type": "code",
   "execution_count": null,
   "id": "13e7aced",
   "metadata": {},
   "outputs": [],
   "source": []
  },
  {
   "cell_type": "code",
   "execution_count": 13,
   "id": "6a490bf0",
   "metadata": {},
   "outputs": [],
   "source": [
    "import keras\n",
    "y_train = keras.utils.np_utils.to_categorical(y_train,2)\n",
    "y_test = keras.utils.np_utils.to_categorical(y_test,2)\n"
   ]
  },
  {
   "cell_type": "code",
   "execution_count": 14,
   "id": "3fa451df",
   "metadata": {},
   "outputs": [
    {
     "data": {
      "text/plain": [
       "(320, 2)"
      ]
     },
     "execution_count": 14,
     "metadata": {},
     "output_type": "execute_result"
    }
   ],
   "source": [
    "y_train.shape"
   ]
  },
  {
   "cell_type": "code",
   "execution_count": 15,
   "id": "bbd2f0b8",
   "metadata": {},
   "outputs": [
    {
     "name": "stdout",
     "output_type": "stream",
     "text": [
      "Model: \"sequential\"\n",
      "_________________________________________________________________\n",
      " Layer (type)                Output Shape              Param #   \n",
      "=================================================================\n",
      " inception_v3 (Functional)   (None, 6, 6, 2048)        21802784  \n",
      "                                                                 \n",
      " conv2d_94 (Conv2D)          (None, 4, 4, 64)          1179712   \n",
      "                                                                 \n",
      " max_pooling2d_4 (MaxPooling  (None, 2, 2, 64)         0         \n",
      " 2D)                                                             \n",
      "                                                                 \n",
      " flatten (Flatten)           (None, 256)               0         \n",
      "                                                                 \n",
      " dense (Dense)               (None, 64)                16448     \n",
      "                                                                 \n",
      " dropout (Dropout)           (None, 64)                0         \n",
      "                                                                 \n",
      " dense_1 (Dense)             (None, 2)                 130       \n",
      "                                                                 \n",
      "=================================================================\n",
      "Total params: 22,999,074\n",
      "Trainable params: 1,196,290\n",
      "Non-trainable params: 21,802,784\n",
      "_________________________________________________________________\n"
     ]
    }
   ],
   "source": [
    "# Models \n",
    "import tensorflow as tf\n",
    "from tensorflow.keras.layers import Input\n",
    "from tensorflow.keras.layers import Flatten, Dense, Dropout, Conv2D, MaxPooling2D\n",
    "\n",
    "from tensorflow.keras.applications import InceptionV3\n",
    "model_cnn = tf.keras.models.Sequential([\n",
    "    InceptionV3(input_shape=(256,256,3), include_top=False),\n",
    "])\n",
    "for layer in model_cnn.layers:\n",
    "  layer.trainable = False\n",
    "\n",
    "model_cnn.add(Conv2D(64, (3,3), activation='relu'))\n",
    "model_cnn.add(MaxPooling2D(2,2))\n",
    "model_cnn.add(Flatten())\n",
    "model_cnn.add(Dense(64, activation='relu'))\n",
    "model_cnn.add(Dropout(0.4))\n",
    "model_cnn.add(Dense(2, activation='sigmoid'))\n",
    "\n",
    "model_cnn.summary()"
   ]
  },
  {
   "cell_type": "code",
   "execution_count": 16,
   "id": "329dac8a",
   "metadata": {},
   "outputs": [
    {
     "data": {
      "image/png": "[encoded data removed]",
      "text/plain": [
       "<IPython.core.display.Image object>"
      ]
     },
     "execution_count": 16,
     "metadata": {},
     "output_type": "execute_result"
    }
   ],
   "source": [
    "from tensorflow.keras.utils import plot_model\n",
    "\n",
    "#model = Model(inputs=[mlp.input, model_cnn.input], outputs=x)\n",
    "\n",
    "plot_model(model_cnn, \"multi_input_and_output_model.png\", show_shapes=True)"
   ]
  },
  {
   "cell_type": "code",
   "execution_count": 17,
   "id": "45cbc76c",
   "metadata": {},
   "outputs": [
    {
     "name": "stdout",
     "output_type": "stream",
     "text": [
      "[INFO] training model...\n",
      "Epoch 1/50\n",
      "10/10 [==============================] - 56s 3s/step - loss: 11.3967 - accuracy: 0.6812 - precision: 0.6171 - recall: 0.6094 - auc: 0.6333\n",
      "Epoch 2/50\n",
      "10/10 [==============================] - 33s 3s/step - loss: 4.0088 - accuracy: 0.7625 - precision: 0.6994 - recall: 0.7125 - auc: 0.7283\n",
      "Epoch 3/50\n",
      "10/10 [==============================] - 33s 3s/step - loss: 1.5862 - accuracy: 0.7625 - precision: 0.7467 - recall: 0.7000 - auc: 0.7815\n",
      "Epoch 4/50\n",
      "10/10 [==============================] - 33s 3s/step - loss: 0.8553 - accuracy: 0.7750 - precision: 0.7187 - recall: 0.7344 - auc: 0.8022\n",
      "Epoch 5/50\n",
      "10/10 [==============================] - 39s 4s/step - loss: 0.6087 - accuracy: 0.8125 - precision: 0.7733 - recall: 0.7781 - auc: 0.8611\n",
      "Epoch 6/50\n",
      "10/10 [==============================] - 42s 4s/step - loss: 0.5795 - accuracy: 0.7594 - precision: 0.7253 - recall: 0.7344 - auc: 0.8206\n",
      "Epoch 7/50\n",
      "10/10 [==============================] - 44s 4s/step - loss: 0.4588 - accuracy: 0.8344 - precision: 0.8101 - recall: 0.8000 - auc: 0.8705\n",
      "Epoch 8/50\n",
      "10/10 [==============================] - 55s 5s/step - loss: 0.3994 - accuracy: 0.8094 - precision: 0.7909 - recall: 0.8156 - auc: 0.8985\n",
      "Epoch 9/50\n",
      "10/10 [==============================] - 71s 7s/step - loss: 0.3918 - accuracy: 0.8219 - precision: 0.8170 - recall: 0.8094 - auc: 0.9038\n",
      "Epoch 10/50\n",
      "10/10 [==============================] - 71s 7s/step - loss: 0.3539 - accuracy: 0.8313 - precision: 0.8215 - recall: 0.8344 - auc: 0.9213\n",
      "Epoch 11/50\n",
      "10/10 [==============================] - 75s 8s/step - loss: 0.3945 - accuracy: 0.8438 - precision: 0.8152 - recall: 0.8406 - auc: 0.9077\n",
      "Epoch 12/50\n",
      "10/10 [==============================] - 84s 8s/step - loss: 0.3599 - accuracy: 0.8281 - precision: 0.8104 - recall: 0.8281 - auc: 0.9205\n",
      "Epoch 13/50\n",
      "10/10 [==============================] - 85s 8s/step - loss: 0.3091 - accuracy: 0.8781 - precision: 0.8638 - recall: 0.8719 - auc: 0.9411\n",
      "Epoch 14/50\n",
      "10/10 [==============================] - 83s 8s/step - loss: 0.3138 - accuracy: 0.8719 - precision: 0.8393 - recall: 0.8813 - auc: 0.9380\n",
      "Epoch 15/50\n",
      "10/10 [==============================] - 84s 8s/step - loss: 0.2821 - accuracy: 0.8906 - precision: 0.8844 - recall: 0.8844 - auc: 0.9529\n",
      "Epoch 16/50\n",
      "10/10 [==============================] - 84s 8s/step - loss: 0.2636 - accuracy: 0.8969 - precision: 0.8889 - recall: 0.8750 - auc: 0.9575\n",
      "Epoch 17/50\n",
      "10/10 [==============================] - 84s 8s/step - loss: 0.2671 - accuracy: 0.8969 - precision: 0.8727 - recall: 0.9000 - auc: 0.9573\n",
      "Epoch 18/50\n",
      "10/10 [==============================] - 85s 9s/step - loss: 0.2462 - accuracy: 0.9000 - precision: 0.8889 - recall: 0.9000 - auc: 0.9629\n",
      "Epoch 19/50\n",
      "10/10 [==============================] - 83s 8s/step - loss: 0.2113 - accuracy: 0.9125 - precision: 0.9034 - recall: 0.9062 - auc: 0.9760\n",
      "Epoch 20/50\n",
      "10/10 [==============================] - 84s 8s/step - loss: 0.2227 - accuracy: 0.9094 - precision: 0.8988 - recall: 0.9156 - auc: 0.9696\n",
      "Epoch 21/50\n",
      "10/10 [==============================] - 85s 8s/step - loss: 0.1915 - accuracy: 0.9094 - precision: 0.8973 - recall: 0.9281 - auc: 0.9779\n",
      "Epoch 22/50\n",
      "10/10 [==============================] - 85s 8s/step - loss: 0.1889 - accuracy: 0.9156 - precision: 0.9003 - recall: 0.9312 - auc: 0.9774\n",
      "Epoch 23/50\n",
      "10/10 [==============================] - 83s 8s/step - loss: 0.1749 - accuracy: 0.9250 - precision: 0.9221 - recall: 0.9250 - auc: 0.9827\n",
      "Epoch 24/50\n",
      "10/10 [==============================] - 84s 8s/step - loss: 0.1366 - accuracy: 0.9344 - precision: 0.9310 - recall: 0.9281 - auc: 0.9889\n",
      "Epoch 25/50\n",
      "10/10 [==============================] - 85s 9s/step - loss: 0.1511 - accuracy: 0.9375 - precision: 0.9283 - recall: 0.9312 - auc: 0.9863\n",
      "Epoch 26/50\n",
      "10/10 [==============================] - 85s 8s/step - loss: 0.1629 - accuracy: 0.9187 - precision: 0.9128 - recall: 0.9156 - auc: 0.9834\n",
      "Epoch 27/50\n",
      "10/10 [==============================] - 76s 8s/step - loss: 0.1348 - accuracy: 0.9438 - precision: 0.9264 - recall: 0.9438 - auc: 0.9897\n",
      "Epoch 28/50\n",
      "10/10 [==============================] - 72s 7s/step - loss: 0.1418 - accuracy: 0.9531 - precision: 0.9500 - recall: 0.9500 - auc: 0.9871\n",
      "Epoch 29/50\n",
      "10/10 [==============================] - 71s 7s/step - loss: 0.1261 - accuracy: 0.9438 - precision: 0.9381 - recall: 0.9469 - auc: 0.9911\n",
      "Epoch 30/50\n",
      "10/10 [==============================] - 71s 7s/step - loss: 0.1735 - accuracy: 0.9469 - precision: 0.9310 - recall: 0.9281 - auc: 0.9819\n",
      "Epoch 31/50\n",
      "10/10 [==============================] - 72s 7s/step - loss: 0.2282 - accuracy: 0.9187 - precision: 0.9079 - recall: 0.8938 - auc: 0.9726\n",
      "Epoch 32/50\n",
      "10/10 [==============================] - 72s 7s/step - loss: 0.2275 - accuracy: 0.9031 - precision: 0.8862 - recall: 0.9000 - auc: 0.9685\n",
      "Epoch 33/50\n",
      "10/10 [==============================] - 72s 7s/step - loss: 0.2187 - accuracy: 0.9187 - precision: 0.9043 - recall: 0.9156 - auc: 0.9709\n",
      "Epoch 34/50\n",
      "10/10 [==============================] - 72s 7s/step - loss: 0.1957 - accuracy: 0.9187 - precision: 0.9167 - recall: 0.9281 - auc: 0.9785\n",
      "Epoch 35/50\n",
      "10/10 [==============================] - 72s 7s/step - loss: 0.1202 - accuracy: 0.9563 - precision: 0.9498 - recall: 0.9469 - auc: 0.9915\n",
      "Epoch 36/50\n",
      "10/10 [==============================] - 72s 7s/step - loss: 0.1178 - accuracy: 0.9500 - precision: 0.9527 - recall: 0.9438 - auc: 0.9918\n",
      "Epoch 37/50\n",
      "10/10 [==============================] - 71s 7s/step - loss: 0.1016 - accuracy: 0.9625 - precision: 0.9596 - recall: 0.9656 - auc: 0.9948\n",
      "Epoch 38/50\n",
      "10/10 [==============================] - 71s 7s/step - loss: 0.0911 - accuracy: 0.9531 - precision: 0.9564 - recall: 0.9594 - auc: 0.9954\n",
      "Epoch 39/50\n",
      "10/10 [==============================] - 71s 7s/step - loss: 0.0730 - accuracy: 0.9781 - precision: 0.9779 - recall: 0.9688 - auc: 0.9969\n",
      "Epoch 40/50\n",
      "10/10 [==============================] - 71s 7s/step - loss: 0.0573 - accuracy: 0.9750 - precision: 0.9780 - recall: 0.9719 - auc: 0.9984\n",
      "Epoch 41/50\n",
      "10/10 [==============================] - 72s 7s/step - loss: 0.0574 - accuracy: 0.9719 - precision: 0.9752 - recall: 0.9812 - auc: 0.9984\n",
      "Epoch 42/50\n",
      "10/10 [==============================] - 72s 7s/step - loss: 0.0529 - accuracy: 0.9875 - precision: 0.9875 - recall: 0.9875 - auc: 0.9986\n",
      "Epoch 43/50\n",
      "10/10 [==============================] - 71s 7s/step - loss: 0.0570 - accuracy: 0.9750 - precision: 0.9718 - recall: 0.9688 - auc: 0.9984\n",
      "Epoch 44/50\n",
      "10/10 [==============================] - 72s 7s/step - loss: 0.0419 - accuracy: 0.9844 - precision: 0.9874 - recall: 0.9812 - auc: 0.9990\n",
      "Epoch 45/50\n",
      "10/10 [==============================] - 72s 7s/step - loss: 0.0444 - accuracy: 0.9906 - precision: 0.9875 - recall: 0.9906 - auc: 0.9993\n",
      "Epoch 46/50\n",
      "10/10 [==============================] - 71s 7s/step - loss: 0.0420 - accuracy: 0.9812 - precision: 0.9782 - recall: 0.9812 - auc: 0.9991\n",
      "Epoch 47/50\n",
      "10/10 [==============================] - 71s 7s/step - loss: 0.0720 - accuracy: 0.9625 - precision: 0.9687 - recall: 0.9656 - auc: 0.9969\n",
      "Epoch 48/50\n",
      "10/10 [==============================] - 72s 7s/step - loss: 0.0310 - accuracy: 0.9937 - precision: 0.9937 - recall: 0.9906 - auc: 0.9998\n",
      "Epoch 49/50\n",
      "10/10 [==============================] - 73s 7s/step - loss: 0.0689 - accuracy: 0.9688 - precision: 0.9626 - recall: 0.9656 - auc: 0.9971\n",
      "Epoch 50/50\n",
      "10/10 [==============================] - 72s 7s/step - loss: 0.1061 - accuracy: 0.9719 - precision: 0.9625 - recall: 0.9625 - auc: 0.9936\n"
     ]
    }
   ],
   "source": [
    "\n",
    "loss = keras.losses.BinaryCrossentropy()\n",
    "model_cnn.compile(loss= loss, optimizer= 'adam', metrics=['accuracy','Precision','Recall','AUC'])\n",
    "# train the model\n",
    "print(\"[INFO] training model...\")\n",
    "\n",
    "h = model_cnn.fit(x=x_train, y=y_train, epochs=50, batch_size=32)"
   ]
  },
  {
   "cell_type": "code",
   "execution_count": 18,
   "id": "87ca64ad",
   "metadata": {},
   "outputs": [
    {
     "name": "stdout",
     "output_type": "stream",
     "text": [
      "3/3 [==============================] - 37s 5s/step - loss: 1.0712 - accuracy: 0.8000 - precision: 0.7927 - recall: 0.8125 - auc: 0.8730\n",
      "loss= 1.0711615085601807\n",
      "accuracy= 0.800000011920929\n"
     ]
    }
   ],
   "source": [
    "score = model_cnn.evaluate(x_test, y_test, verbose=1)\n",
    "print('loss=', score[0])\n",
    "print('accuracy=', score[1])\n"
   ]
  },
  {
   "cell_type": "code",
   "execution_count": null,
   "id": "7f73db72",
   "metadata": {},
   "outputs": [],
   "source": []
  }
 ],
 "metadata": {
  "kernelspec": {
   "display_name": "Python 3 (ipykernel)",
   "language": "python",
   "name": "python3"
  },
  "language_info": {
   "codemirror_mode": {
    "name": "ipython",
    "version": 3
   },
   "file_extension": ".py",
   "mimetype": "text/x-python",
   "name": "python",
   "nbconvert_exporter": "python",
   "pygments_lexer": "ipython3",
   "version": "3.9.1"
  }
 },
 "nbformat": 4,
 "nbformat_minor": 5
}
