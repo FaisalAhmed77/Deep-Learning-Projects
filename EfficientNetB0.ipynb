{
 "cells": [
  {
   "cell_type": "code",
   "execution_count": 19,
   "id": "e672616b",
   "metadata": {},
   "outputs": [],
   "source": [
    "# load and display an image with Matplotlib\n",
    "from matplotlib import image\n",
    "from matplotlib import pyplot\n",
    "import matplotlib.pyplot as plt\n",
    "from PIL import Image\n",
    "import pandas as pd\n",
    "import numpy as np\n",
    "import seaborn as sns\n",
    "import glob\n"
   ]
  },
  {
   "cell_type": "code",
   "execution_count": 20,
   "id": "5eec04ee",
   "metadata": {},
   "outputs": [],
   "source": [
    "file = \"C://Users/16823/Desktop/Research Papers/Retinal_Datasets/iChallenge-AMD-Training400/Non-AMD/\" \n",
    "\n",
    "img_file = list(glob.glob1(file, \"*.jpg\"))\n",
    "img = []\n",
    "for i in img_file:\n",
    "    img.append(i)\n",
    "\n",
    "data = []\n",
    "for i in img:\n",
    "    image_path = file + i\n",
    "    gray=Image.open(image_path)\n",
    "    gray_resiz = gray.resize((256, 256))\n",
    "    arr_gray = np.array(gray_resiz)\n",
    "    data.append(arr_gray)\n"
   ]
  },
  {
   "cell_type": "code",
   "execution_count": 21,
   "id": "6bc5da3c",
   "metadata": {},
   "outputs": [],
   "source": [
    "d = np.array(data)\n"
   ]
  },
  {
   "cell_type": "code",
   "execution_count": 22,
   "id": "4a884e3e",
   "metadata": {},
   "outputs": [
    {
     "data": {
      "text/plain": [
       "(311, 256, 256, 3)"
      ]
     },
     "execution_count": 22,
     "metadata": {},
     "output_type": "execute_result"
    }
   ],
   "source": [
    "d.shape"
   ]
  },
  {
   "cell_type": "code",
   "execution_count": 23,
   "id": "67e94c69",
   "metadata": {},
   "outputs": [],
   "source": [
    "file1 = \"C://Users/16823/Desktop/Research Papers/Retinal_Datasets/iChallenge-AMD-Training400/AMD/\" \n",
    "\n",
    "img_file1 = list(glob.glob1(file1, \"*.jpg\"))\n",
    "img1 = []\n",
    "for i in img_file1:\n",
    "    img1.append(i)\n",
    "\n",
    "data1 = []\n",
    "for i in img1:\n",
    "    image_path1 = file1 + i\n",
    "    gray1=Image.open(image_path1)\n",
    "    gray_resiz1 = gray1.resize((256, 256))\n",
    "    arr_gray1 = np.array(gray_resiz1)\n",
    "    data1.append(arr_gray1)\n"
   ]
  },
  {
   "cell_type": "code",
   "execution_count": 24,
   "id": "92b86fcf",
   "metadata": {},
   "outputs": [],
   "source": [
    "d1 = np.array(data1)\n"
   ]
  },
  {
   "cell_type": "code",
   "execution_count": 25,
   "id": "c8c658c6",
   "metadata": {},
   "outputs": [
    {
     "data": {
      "text/plain": [
       "(89, 256, 256, 3)"
      ]
     },
     "execution_count": 25,
     "metadata": {},
     "output_type": "execute_result"
    }
   ],
   "source": [
    "d1.shape"
   ]
  },
  {
   "cell_type": "code",
   "execution_count": 26,
   "id": "43ec1073",
   "metadata": {},
   "outputs": [
    {
     "data": {
      "text/plain": [
       "(400, 256, 256, 3)"
      ]
     },
     "execution_count": 26,
     "metadata": {},
     "output_type": "execute_result"
    }
   ],
   "source": [
    "df = np.concatenate((d, d1), axis = 0)\n",
    "df.shape"
   ]
  },
  {
   "cell_type": "code",
   "execution_count": 27,
   "id": "5f2936f1",
   "metadata": {},
   "outputs": [],
   "source": [
    "d_label = [0]*311\n",
    "d1_label = [1]*89"
   ]
  },
  {
   "cell_type": "code",
   "execution_count": 28,
   "id": "62619bea",
   "metadata": {},
   "outputs": [],
   "source": [
    "y = np.concatenate([d_label, d1_label])\n"
   ]
  },
  {
   "cell_type": "code",
   "execution_count": 29,
   "id": "1989d4a3",
   "metadata": {},
   "outputs": [],
   "source": [
    "import keras\n",
    "from keras.models import Model\n",
    "from keras.layers import Dense, Input\n",
    "from keras.layers import Conv2D, MaxPooling2D, Dropout, Flatten\n",
    "from keras import backend as k\n",
    "from keras.utils import np_utils"
   ]
  },
  {
   "cell_type": "code",
   "execution_count": 30,
   "id": "aec34bd1",
   "metadata": {},
   "outputs": [],
   "source": [
    "# # #Spliting the data in 80:20 training to testing\n",
    "from sklearn.model_selection import train_test_split\n",
    "x_train, x_test, y_train, y_test = train_test_split(df, y, test_size = 0.2, random_state = 0)\n",
    "\n",
    "# x_train = pd.concat([df.iloc[:135, :100], df.iloc[168:303,:100]], axis = 0, ignore_index = True).values\n",
    "# x_test =pd.concat([df.iloc[135:168, :100], df.iloc[303:,:100]], axis = 0, ignore_index = True).values\n",
    "# y_train = pd.concat([df.iloc[:135, 100], df.iloc[168:303,100]], axis = 0, ignore_index = True).values\n",
    "# y_test = pd.concat([df.iloc[135:168, 100], df.iloc[303:, 100]], axis = 0, ignore_index = True).values\n"
   ]
  },
  {
   "cell_type": "code",
   "execution_count": null,
   "id": "13e7aced",
   "metadata": {},
   "outputs": [],
   "source": []
  },
  {
   "cell_type": "code",
   "execution_count": 31,
   "id": "6a490bf0",
   "metadata": {},
   "outputs": [],
   "source": [
    "import keras\n",
    "y_train = keras.utils.np_utils.to_categorical(y_train,2)\n",
    "y_test = keras.utils.np_utils.to_categorical(y_test,2)\n"
   ]
  },
  {
   "cell_type": "code",
   "execution_count": 32,
   "id": "3fa451df",
   "metadata": {},
   "outputs": [
    {
     "data": {
      "text/plain": [
       "(320, 2)"
      ]
     },
     "execution_count": 32,
     "metadata": {},
     "output_type": "execute_result"
    }
   ],
   "source": [
    "y_train.shape"
   ]
  },
  {
   "cell_type": "code",
   "execution_count": 33,
   "id": "bbd2f0b8",
   "metadata": {},
   "outputs": [
    {
     "name": "stdout",
     "output_type": "stream",
     "text": [
      "Model: \"sequential_1\"\n",
      "_________________________________________________________________\n",
      " Layer (type)                Output Shape              Param #   \n",
      "=================================================================\n",
      " efficientnetb0 (Functional)  (None, 8, 8, 1280)       4049571   \n",
      "                                                                 \n",
      " conv2d_1 (Conv2D)           (None, 6, 6, 64)          737344    \n",
      "                                                                 \n",
      " max_pooling2d_1 (MaxPooling  (None, 3, 3, 64)         0         \n",
      " 2D)                                                             \n",
      "                                                                 \n",
      " flatten_1 (Flatten)         (None, 576)               0         \n",
      "                                                                 \n",
      " dense_2 (Dense)             (None, 64)                36928     \n",
      "                                                                 \n",
      " dropout_1 (Dropout)         (None, 64)                0         \n",
      "                                                                 \n",
      " dense_3 (Dense)             (None, 2)                 130       \n",
      "                                                                 \n",
      "=================================================================\n",
      "Total params: 4,823,973\n",
      "Trainable params: 774,402\n",
      "Non-trainable params: 4,049,571\n",
      "_________________________________________________________________\n"
     ]
    }
   ],
   "source": [
    "# Models \n",
    "import tensorflow as tf\n",
    "from tensorflow.keras.layers import Input\n",
    "from tensorflow.keras.layers import Flatten, Dense, Dropout, Conv2D, MaxPooling2D\n",
    "\n",
    "from tensorflow.keras.applications import EfficientNetB0\n",
    "model_cnn = tf.keras.models.Sequential([\n",
    "    EfficientNetB0(input_shape=(256,256,3), include_top=False),\n",
    "])\n",
    "for layer in model_cnn.layers:\n",
    "  layer.trainable = False\n",
    "\n",
    "model_cnn.add(Conv2D(64, (3,3), activation='relu'))\n",
    "model_cnn.add(MaxPooling2D(2,2))\n",
    "model_cnn.add(Flatten())\n",
    "model_cnn.add(Dense(64, activation='relu'))\n",
    "model_cnn.add(Dropout(0.4))\n",
    "model_cnn.add(Dense(2, activation='sigmoid'))\n",
    "\n",
    "model_cnn.summary()"
   ]
  },
  {
   "cell_type": "code",
   "execution_count": 34,
   "id": "329dac8a",
   "metadata": {},
   "outputs": [
    {
     "data": {
      "image/png": "[encoded data removed]",
      "text/plain": [
       "<IPython.core.display.Image object>"
      ]
     },
     "execution_count": 34,
     "metadata": {},
     "output_type": "execute_result"
    }
   ],
   "source": [
    "from tensorflow.keras.utils import plot_model\n",
    "\n",
    "#model = Model(inputs=[mlp.input, model_cnn.input], outputs=x)\n",
    "\n",
    "plot_model(model_cnn, \"multi_input_and_output_model.png\", show_shapes=True)"
   ]
  },
  {
   "cell_type": "code",
   "execution_count": 35,
   "id": "45cbc76c",
   "metadata": {},
   "outputs": [
    {
     "name": "stdout",
     "output_type": "stream",
     "text": [
      "[INFO] training model...\n",
      "Epoch 1/50\n",
      "10/10 [==============================] - 40s 2s/step - loss: 1.0058 - accuracy: 0.7406 - precision: 0.6889 - recall: 0.7750 - auc: 0.7466\n",
      "Epoch 2/50\n",
      "10/10 [==============================] - 23s 2s/step - loss: 0.4175 - accuracy: 0.8031 - precision: 0.8121 - recall: 0.7969 - auc: 0.8896\n",
      "Epoch 3/50\n",
      "10/10 [==============================] - 24s 2s/step - loss: 0.3515 - accuracy: 0.8406 - precision: 0.8476 - recall: 0.8344 - auc: 0.9247\n",
      "Epoch 4/50\n",
      "10/10 [==============================] - 24s 2s/step - loss: 0.3041 - accuracy: 0.8781 - precision: 0.8700 - recall: 0.8781 - auc: 0.9447\n",
      "Epoch 5/50\n",
      "10/10 [==============================] - 23s 2s/step - loss: 0.2471 - accuracy: 0.9031 - precision: 0.9105 - recall: 0.8906 - auc: 0.9666\n",
      "Epoch 6/50\n",
      "10/10 [==============================] - 23s 2s/step - loss: 0.2323 - accuracy: 0.9125 - precision: 0.8981 - recall: 0.9094 - auc: 0.9676\n",
      "Epoch 7/50\n",
      "10/10 [==============================] - 23s 2s/step - loss: 0.2033 - accuracy: 0.9219 - precision: 0.9125 - recall: 0.9125 - auc: 0.9752\n",
      "Epoch 8/50\n",
      "10/10 [==============================] - 23s 2s/step - loss: 0.1681 - accuracy: 0.9406 - precision: 0.9375 - recall: 0.9375 - auc: 0.9830\n",
      "Epoch 9/50\n",
      "10/10 [==============================] - 24s 2s/step - loss: 0.1736 - accuracy: 0.9344 - precision: 0.9226 - recall: 0.9312 - auc: 0.9819\n",
      "Epoch 10/50\n",
      "10/10 [==============================] - 23s 2s/step - loss: 0.1515 - accuracy: 0.9469 - precision: 0.9410 - recall: 0.9469 - auc: 0.9864\n",
      "Epoch 11/50\n",
      "10/10 [==============================] - 23s 2s/step - loss: 0.1146 - accuracy: 0.9594 - precision: 0.9596 - recall: 0.9656 - auc: 0.9935\n",
      "Epoch 12/50\n",
      "10/10 [==============================] - 24s 2s/step - loss: 0.1279 - accuracy: 0.9688 - precision: 0.9626 - recall: 0.9656 - auc: 0.9897\n",
      "Epoch 13/50\n",
      "10/10 [==============================] - 23s 2s/step - loss: 0.1119 - accuracy: 0.9500 - precision: 0.9533 - recall: 0.9563 - auc: 0.9932\n",
      "Epoch 14/50\n",
      "10/10 [==============================] - 24s 2s/step - loss: 0.0940 - accuracy: 0.9656 - precision: 0.9598 - recall: 0.9688 - auc: 0.9951\n",
      "Epoch 15/50\n",
      "10/10 [==============================] - 24s 2s/step - loss: 0.0906 - accuracy: 0.9688 - precision: 0.9630 - recall: 0.9750 - auc: 0.9953\n",
      "Epoch 16/50\n",
      "10/10 [==============================] - 24s 2s/step - loss: 0.0812 - accuracy: 0.9656 - precision: 0.9746 - recall: 0.9594 - auc: 0.9965\n",
      "Epoch 17/50\n",
      "10/10 [==============================] - 24s 2s/step - loss: 0.0532 - accuracy: 0.9844 - precision: 0.9873 - recall: 0.9750 - auc: 0.9988\n",
      "Epoch 18/50\n",
      "10/10 [==============================] - 24s 2s/step - loss: 0.0336 - accuracy: 0.9875 - precision: 0.9875 - recall: 0.9875 - auc: 0.9996\n",
      "Epoch 19/50\n",
      "10/10 [==============================] - 33s 3s/step - loss: 0.0657 - accuracy: 0.9750 - precision: 0.9720 - recall: 0.9750 - auc: 0.9974\n",
      "Epoch 20/50\n",
      "10/10 [==============================] - 33s 3s/step - loss: 0.0645 - accuracy: 0.9906 - precision: 0.9906 - recall: 0.9875 - auc: 0.9957\n",
      "Epoch 21/50\n",
      "10/10 [==============================] - 33s 3s/step - loss: 0.0651 - accuracy: 0.9781 - precision: 0.9781 - recall: 0.9781 - auc: 0.9977\n",
      "Epoch 22/50\n",
      "10/10 [==============================] - 33s 3s/step - loss: 0.0442 - accuracy: 0.9875 - precision: 0.9875 - recall: 0.9875 - auc: 0.9989\n",
      "Epoch 23/50\n",
      "10/10 [==============================] - 33s 3s/step - loss: 0.0770 - accuracy: 0.9656 - precision: 0.9687 - recall: 0.9656 - auc: 0.9964\n",
      "Epoch 24/50\n",
      "10/10 [==============================] - 33s 3s/step - loss: 0.0730 - accuracy: 0.9688 - precision: 0.9748 - recall: 0.9656 - auc: 0.9969\n",
      "Epoch 25/50\n",
      "10/10 [==============================] - 34s 3s/step - loss: 0.0346 - accuracy: 0.9906 - precision: 0.9906 - recall: 0.9875 - auc: 0.9996\n",
      "Epoch 26/50\n",
      "10/10 [==============================] - 33s 3s/step - loss: 0.0319 - accuracy: 0.9875 - precision: 0.9906 - recall: 0.9906 - auc: 0.9994\n",
      "Epoch 27/50\n",
      "10/10 [==============================] - 33s 3s/step - loss: 0.0149 - accuracy: 0.9937 - precision: 0.9938 - recall: 0.9969 - auc: 0.9999\n",
      "Epoch 28/50\n",
      "10/10 [==============================] - 34s 3s/step - loss: 0.0289 - accuracy: 0.9906 - precision: 0.9907 - recall: 0.9937 - auc: 0.9994\n",
      "Epoch 29/50\n",
      "10/10 [==============================] - 36s 4s/step - loss: 0.0350 - accuracy: 0.9906 - precision: 0.9906 - recall: 0.9844 - auc: 0.9992\n",
      "Epoch 30/50\n",
      "10/10 [==============================] - 44s 4s/step - loss: 0.0491 - accuracy: 0.9781 - precision: 0.9843 - recall: 0.9781 - auc: 0.9972\n",
      "Epoch 31/50\n",
      "10/10 [==============================] - 39s 4s/step - loss: 0.0797 - accuracy: 0.9750 - precision: 0.9720 - recall: 0.9750 - auc: 0.9947\n",
      "Epoch 32/50\n",
      "10/10 [==============================] - 35s 3s/step - loss: 0.0413 - accuracy: 0.9812 - precision: 0.9814 - recall: 0.9906 - auc: 0.9993\n",
      "Epoch 33/50\n",
      "10/10 [==============================] - 43s 4s/step - loss: 0.0170 - accuracy: 0.9937 - precision: 0.9938 - recall: 0.9969 - auc: 0.9999\n",
      "Epoch 34/50\n",
      "10/10 [==============================] - 43s 4s/step - loss: 0.0118 - accuracy: 0.9969 - precision: 0.9969 - recall: 0.9969 - auc: 0.9999\n",
      "Epoch 35/50\n",
      "10/10 [==============================] - 42s 4s/step - loss: 0.0232 - accuracy: 0.9969 - precision: 0.9969 - recall: 0.9969 - auc: 0.9994\n",
      "Epoch 36/50\n",
      "10/10 [==============================] - 44s 4s/step - loss: 0.0064 - accuracy: 1.0000 - precision: 1.0000 - recall: 1.0000 - auc: 1.0000\n",
      "Epoch 37/50\n",
      "10/10 [==============================] - 44s 4s/step - loss: 0.0054 - accuracy: 1.0000 - precision: 1.0000 - recall: 1.0000 - auc: 1.0000\n",
      "Epoch 38/50\n",
      "10/10 [==============================] - 44s 4s/step - loss: 0.0038 - accuracy: 1.0000 - precision: 1.0000 - recall: 1.0000 - auc: 1.0000\n",
      "Epoch 39/50\n",
      "10/10 [==============================] - 43s 4s/step - loss: 0.0215 - accuracy: 0.9937 - precision: 0.9937 - recall: 0.9875 - auc: 0.9998\n",
      "Epoch 40/50\n",
      "10/10 [==============================] - 43s 4s/step - loss: 0.0154 - accuracy: 0.9969 - precision: 0.9969 - recall: 0.9969 - auc: 0.9999\n",
      "Epoch 41/50\n",
      "10/10 [==============================] - 42s 4s/step - loss: 0.0188 - accuracy: 0.9937 - precision: 0.9937 - recall: 0.9937 - auc: 0.9998\n",
      "Epoch 42/50\n",
      "10/10 [==============================] - 43s 4s/step - loss: 0.0566 - accuracy: 0.9875 - precision: 0.9843 - recall: 0.9781 - auc: 0.9980\n",
      "Epoch 43/50\n",
      "10/10 [==============================] - 43s 4s/step - loss: 0.0142 - accuracy: 0.9969 - precision: 1.0000 - recall: 0.9906 - auc: 1.0000\n",
      "Epoch 44/50\n",
      "10/10 [==============================] - 43s 4s/step - loss: 0.0216 - accuracy: 0.9875 - precision: 0.9844 - recall: 0.9875 - auc: 0.9997\n",
      "Epoch 45/50\n",
      "10/10 [==============================] - 42s 4s/step - loss: 0.0232 - accuracy: 0.9906 - precision: 0.9906 - recall: 0.9906 - auc: 0.9996\n",
      "Epoch 46/50\n",
      "10/10 [==============================] - 43s 4s/step - loss: 0.0196 - accuracy: 0.9937 - precision: 0.9937 - recall: 0.9937 - auc: 0.9998\n",
      "Epoch 47/50\n",
      "10/10 [==============================] - 43s 4s/step - loss: 0.0165 - accuracy: 0.9969 - precision: 1.0000 - recall: 0.9937 - auc: 0.9999\n",
      "Epoch 48/50\n",
      "10/10 [==============================] - 42s 4s/step - loss: 0.0408 - accuracy: 0.9844 - precision: 0.9875 - recall: 0.9844 - auc: 0.9993\n",
      "Epoch 49/50\n",
      "10/10 [==============================] - 42s 4s/step - loss: 0.0104 - accuracy: 0.9969 - precision: 0.9969 - recall: 0.9969 - auc: 0.9999\n",
      "Epoch 50/50\n",
      "10/10 [==============================] - 44s 4s/step - loss: 0.0064 - accuracy: 1.0000 - precision: 1.0000 - recall: 0.9969 - auc: 1.0000\n"
     ]
    }
   ],
   "source": [
    "\n",
    "loss = keras.losses.BinaryCrossentropy()\n",
    "model_cnn.compile(loss= loss, optimizer= 'adam', metrics=['accuracy','Precision','Recall','AUC'])\n",
    "# train the model\n",
    "print(\"[INFO] training model...\")\n",
    "\n",
    "h = model_cnn.fit(x=x_train, y=y_train, epochs=50, batch_size=32)"
   ]
  },
  {
   "cell_type": "code",
   "execution_count": 36,
   "id": "87ca64ad",
   "metadata": {},
   "outputs": [
    {
     "name": "stdout",
     "output_type": "stream",
     "text": [
      "3/3 [==============================] - 33s 3s/step - loss: 0.5350 - accuracy: 0.8875 - precision: 0.8875 - recall: 0.8875 - auc: 0.9430\n",
      "loss= 0.5349643230438232\n",
      "accuracy= 0.887499988079071\n"
     ]
    }
   ],
   "source": [
    "score = model_cnn.evaluate(x_test, y_test, verbose=1)\n",
    "print('loss=', score[0])\n",
    "print('accuracy=', score[1])\n"
   ]
  },
  {
   "cell_type": "code",
   "execution_count": null,
   "id": "7f73db72",
   "metadata": {},
   "outputs": [],
   "source": []
  }
 ],
 "metadata": {
  "kernelspec": {
   "display_name": "Python 3 (ipykernel)",
   "language": "python",
   "name": "python3"
  },
  "language_info": {
   "codemirror_mode": {
    "name": "ipython",
    "version": 3
   },
   "file_extension": ".py",
   "mimetype": "text/x-python",
   "name": "python",
   "nbconvert_exporter": "python",
   "pygments_lexer": "ipython3",
   "version": "3.9.1"
  }
 },
 "nbformat": 4,
 "nbformat_minor": 5
}
