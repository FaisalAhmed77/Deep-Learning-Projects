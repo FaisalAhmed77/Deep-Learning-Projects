{
 "cells": [
  {
   "cell_type": "code",
   "execution_count": 1,
   "id": "e672616b",
   "metadata": {},
   "outputs": [],
   "source": [
    "# load and display an image with Matplotlib\n",
    "from matplotlib import image\n",
    "from matplotlib import pyplot\n",
    "import matplotlib.pyplot as plt\n",
    "from PIL import Image\n",
    "import pandas as pd\n",
    "import numpy as np\n",
    "import seaborn as sns\n",
    "import glob\n"
   ]
  },
  {
   "cell_type": "code",
   "execution_count": 2,
   "id": "5eec04ee",
   "metadata": {},
   "outputs": [],
   "source": [
    "file = \"C://Users/16823/Desktop/Research Papers/Retinal_Datasets/iChallenge-AMD-Training400/Non-AMD/\" \n",
    "\n",
    "img_file = list(glob.glob1(file, \"*.jpg\"))\n",
    "img = []\n",
    "for i in img_file:\n",
    "    img.append(i)\n",
    "\n",
    "data = []\n",
    "for i in img:\n",
    "    image_path = file + i\n",
    "    gray=Image.open(image_path)\n",
    "    gray_resiz = gray.resize((256, 256))\n",
    "    arr_gray = np.array(gray_resiz)\n",
    "    data.append(arr_gray)\n"
   ]
  },
  {
   "cell_type": "code",
   "execution_count": 3,
   "id": "6bc5da3c",
   "metadata": {},
   "outputs": [],
   "source": [
    "d = np.array(data)\n"
   ]
  },
  {
   "cell_type": "code",
   "execution_count": 4,
   "id": "4a884e3e",
   "metadata": {},
   "outputs": [
    {
     "data": {
      "text/plain": [
       "(311, 256, 256, 3)"
      ]
     },
     "execution_count": 4,
     "metadata": {},
     "output_type": "execute_result"
    }
   ],
   "source": [
    "d.shape"
   ]
  },
  {
   "cell_type": "code",
   "execution_count": 5,
   "id": "67e94c69",
   "metadata": {},
   "outputs": [],
   "source": [
    "file1 = \"C://Users/16823/Desktop/Research Papers/Retinal_Datasets/iChallenge-AMD-Training400/AMD/\" \n",
    "\n",
    "img_file1 = list(glob.glob1(file1, \"*.jpg\"))\n",
    "img1 = []\n",
    "for i in img_file1:\n",
    "    img1.append(i)\n",
    "\n",
    "data1 = []\n",
    "for i in img1:\n",
    "    image_path1 = file1 + i\n",
    "    gray1=Image.open(image_path1)\n",
    "    gray_resiz1 = gray1.resize((256, 256))\n",
    "    arr_gray1 = np.array(gray_resiz1)\n",
    "    data1.append(arr_gray1)\n"
   ]
  },
  {
   "cell_type": "code",
   "execution_count": 6,
   "id": "92b86fcf",
   "metadata": {},
   "outputs": [],
   "source": [
    "d1 = np.array(data1)\n"
   ]
  },
  {
   "cell_type": "code",
   "execution_count": 7,
   "id": "c8c658c6",
   "metadata": {},
   "outputs": [
    {
     "data": {
      "text/plain": [
       "(89, 256, 256, 3)"
      ]
     },
     "execution_count": 7,
     "metadata": {},
     "output_type": "execute_result"
    }
   ],
   "source": [
    "d1.shape"
   ]
  },
  {
   "cell_type": "code",
   "execution_count": 8,
   "id": "43ec1073",
   "metadata": {},
   "outputs": [
    {
     "data": {
      "text/plain": [
       "(400, 256, 256, 3)"
      ]
     },
     "execution_count": 8,
     "metadata": {},
     "output_type": "execute_result"
    }
   ],
   "source": [
    "df = np.concatenate((d, d1), axis = 0)\n",
    "df.shape"
   ]
  },
  {
   "cell_type": "code",
   "execution_count": 9,
   "id": "5f2936f1",
   "metadata": {},
   "outputs": [],
   "source": [
    "d_label = [0]*311\n",
    "d1_label = [1]*89"
   ]
  },
  {
   "cell_type": "code",
   "execution_count": 10,
   "id": "62619bea",
   "metadata": {},
   "outputs": [],
   "source": [
    "y = np.concatenate([d_label, d1_label])\n"
   ]
  },
  {
   "cell_type": "code",
   "execution_count": 11,
   "id": "1989d4a3",
   "metadata": {},
   "outputs": [],
   "source": [
    "import keras\n",
    "from keras.models import Model\n",
    "from keras.layers import Dense, Input\n",
    "from keras.layers import Conv2D, MaxPooling2D, Dropout, Flatten\n",
    "from keras import backend as k\n",
    "from keras.utils import np_utils"
   ]
  },
  {
   "cell_type": "code",
   "execution_count": 12,
   "id": "aec34bd1",
   "metadata": {},
   "outputs": [],
   "source": [
    "# # #Spliting the data in 80:20 training to testing\n",
    "from sklearn.model_selection import train_test_split\n",
    "x_train, x_test, y_train, y_test = train_test_split(df, y, test_size = 0.2, random_state = 0)\n",
    "\n",
    "# x_train = pd.concat([df.iloc[:135, :100], df.iloc[168:303,:100]], axis = 0, ignore_index = True).values\n",
    "# x_test =pd.concat([df.iloc[135:168, :100], df.iloc[303:,:100]], axis = 0, ignore_index = True).values\n",
    "# y_train = pd.concat([df.iloc[:135, 100], df.iloc[168:303,100]], axis = 0, ignore_index = True).values\n",
    "# y_test = pd.concat([df.iloc[135:168, 100], df.iloc[303:, 100]], axis = 0, ignore_index = True).values\n"
   ]
  },
  {
   "cell_type": "code",
   "execution_count": null,
   "id": "13e7aced",
   "metadata": {},
   "outputs": [],
   "source": []
  },
  {
   "cell_type": "code",
   "execution_count": 13,
   "id": "6a490bf0",
   "metadata": {},
   "outputs": [],
   "source": [
    "import keras\n",
    "y_train = keras.utils.np_utils.to_categorical(y_train,2)\n",
    "y_test = keras.utils.np_utils.to_categorical(y_test,2)\n"
   ]
  },
  {
   "cell_type": "code",
   "execution_count": 14,
   "id": "3fa451df",
   "metadata": {},
   "outputs": [
    {
     "data": {
      "text/plain": [
       "(320, 2)"
      ]
     },
     "execution_count": 14,
     "metadata": {},
     "output_type": "execute_result"
    }
   ],
   "source": [
    "y_train.shape"
   ]
  },
  {
   "cell_type": "code",
   "execution_count": 15,
   "id": "bbd2f0b8",
   "metadata": {},
   "outputs": [
    {
     "name": "stdout",
     "output_type": "stream",
     "text": [
      "Model: \"sequential\"\n",
      "_________________________________________________________________\n",
      " Layer (type)                Output Shape              Param #   \n",
      "=================================================================\n",
      " efficientnetb3 (Functional)  (None, 8, 8, 1536)       10783535  \n",
      "                                                                 \n",
      " conv2d (Conv2D)             (None, 6, 6, 64)          884800    \n",
      "                                                                 \n",
      " max_pooling2d (MaxPooling2D  (None, 3, 3, 64)         0         \n",
      " )                                                               \n",
      "                                                                 \n",
      " flatten (Flatten)           (None, 576)               0         \n",
      "                                                                 \n",
      " dense (Dense)               (None, 64)                36928     \n",
      "                                                                 \n",
      " dropout (Dropout)           (None, 64)                0         \n",
      "                                                                 \n",
      " dense_1 (Dense)             (None, 2)                 130       \n",
      "                                                                 \n",
      "=================================================================\n",
      "Total params: 11,705,393\n",
      "Trainable params: 921,858\n",
      "Non-trainable params: 10,783,535\n",
      "_________________________________________________________________\n"
     ]
    }
   ],
   "source": [
    "# Models \n",
    "import tensorflow as tf\n",
    "from tensorflow.keras.layers import Input\n",
    "from tensorflow.keras.layers import Flatten, Dense, Dropout, Conv2D, MaxPooling2D\n",
    "\n",
    "from tensorflow.keras.applications import EfficientNetB3\n",
    "model_cnn = tf.keras.models.Sequential([\n",
    "    EfficientNetB3(input_shape=(256,256,3), include_top=False),\n",
    "])\n",
    "for layer in model_cnn.layers:\n",
    "  layer.trainable = False\n",
    "\n",
    "model_cnn.add(Conv2D(64, (3,3), activation='relu'))\n",
    "model_cnn.add(MaxPooling2D(2,2))\n",
    "model_cnn.add(Flatten())\n",
    "model_cnn.add(Dense(64, activation='relu'))\n",
    "model_cnn.add(Dropout(0.4))\n",
    "model_cnn.add(Dense(2, activation='sigmoid'))\n",
    "\n",
    "model_cnn.summary()"
   ]
  },
  {
   "cell_type": "code",
   "execution_count": 16,
   "id": "329dac8a",
   "metadata": {},
   "outputs": [
    {
     "data": {
      "image/png": "[encoded data removed]",
      "text/plain": [
       "<IPython.core.display.Image object>"
      ]
     },
     "execution_count": 16,
     "metadata": {},
     "output_type": "execute_result"
    }
   ],
   "source": [
    "from tensorflow.keras.utils import plot_model\n",
    "\n",
    "#model = Model(inputs=[mlp.input, model_cnn.input], outputs=x)\n",
    "\n",
    "plot_model(model_cnn, \"multi_input_and_output_model.png\", show_shapes=True)"
   ]
  },
  {
   "cell_type": "code",
   "execution_count": 17,
   "id": "45cbc76c",
   "metadata": {},
   "outputs": [
    {
     "name": "stdout",
     "output_type": "stream",
     "text": [
      "[INFO] training model...\n",
      "Epoch 1/50\n",
      "10/10 [==============================] - 122s 6s/step - loss: 1.2393 - accuracy: 0.7594 - precision: 0.7235 - recall: 0.7031 - auc: 0.7870\n",
      "Epoch 2/50\n",
      "10/10 [==============================] - 62s 6s/step - loss: 0.4070 - accuracy: 0.8406 - precision: 0.8313 - recall: 0.8313 - auc: 0.9188\n",
      "Epoch 3/50\n",
      "10/10 [==============================] - 64s 6s/step - loss: 0.3596 - accuracy: 0.8469 - precision: 0.8360 - recall: 0.8281 - auc: 0.9198\n",
      "Epoch 4/50\n",
      "10/10 [==============================] - 64s 6s/step - loss: 0.2897 - accuracy: 0.8781 - precision: 0.8896 - recall: 0.8562 - auc: 0.9494\n",
      "Epoch 5/50\n",
      "10/10 [==============================] - 63s 6s/step - loss: 0.2808 - accuracy: 0.8719 - precision: 0.8700 - recall: 0.8781 - auc: 0.9508\n",
      "Epoch 6/50\n",
      "10/10 [==============================] - 71s 7s/step - loss: 0.2271 - accuracy: 0.9250 - precision: 0.9046 - recall: 0.9187 - auc: 0.9705\n",
      "Epoch 7/50\n",
      "10/10 [==============================] - 75s 7s/step - loss: 0.2290 - accuracy: 0.9156 - precision: 0.9128 - recall: 0.9156 - auc: 0.9691\n",
      "Epoch 8/50\n",
      "10/10 [==============================] - 79s 8s/step - loss: 0.2099 - accuracy: 0.9281 - precision: 0.9219 - recall: 0.9219 - auc: 0.9733\n",
      "Epoch 9/50\n",
      "10/10 [==============================] - 82s 8s/step - loss: 0.2423 - accuracy: 0.8938 - precision: 0.8997 - recall: 0.8969 - auc: 0.9649\n",
      "Epoch 10/50\n",
      "10/10 [==============================] - 82s 8s/step - loss: 0.2654 - accuracy: 0.8906 - precision: 0.8981 - recall: 0.8813 - auc: 0.9573\n",
      "Epoch 11/50\n",
      "10/10 [==============================] - 83s 8s/step - loss: 0.1990 - accuracy: 0.9281 - precision: 0.9167 - recall: 0.9281 - auc: 0.9762\n",
      "Epoch 12/50\n",
      "10/10 [==============================] - 83s 8s/step - loss: 0.1344 - accuracy: 0.9531 - precision: 0.9469 - recall: 0.9469 - auc: 0.9895\n",
      "Epoch 13/50\n",
      "10/10 [==============================] - 82s 8s/step - loss: 0.1438 - accuracy: 0.9406 - precision: 0.9281 - recall: 0.9281 - auc: 0.9874\n",
      "Epoch 14/50\n",
      "10/10 [==============================] - 84s 8s/step - loss: 0.1613 - accuracy: 0.9500 - precision: 0.9527 - recall: 0.9438 - auc: 0.9836\n",
      "Epoch 15/50\n",
      "10/10 [==============================] - 82s 8s/step - loss: 0.1181 - accuracy: 0.9625 - precision: 0.9536 - recall: 0.9625 - auc: 0.9923\n",
      "Epoch 16/50\n",
      "10/10 [==============================] - 82s 8s/step - loss: 0.0825 - accuracy: 0.9750 - precision: 0.9600 - recall: 0.9750 - auc: 0.9966\n",
      "Epoch 17/50\n",
      "10/10 [==============================] - 75s 7s/step - loss: 0.1058 - accuracy: 0.9594 - precision: 0.9564 - recall: 0.9594 - auc: 0.9932\n",
      "Epoch 18/50\n",
      "10/10 [==============================] - 66s 6s/step - loss: 0.0938 - accuracy: 0.9688 - precision: 0.9599 - recall: 0.9719 - auc: 0.9943\n",
      "Epoch 19/50\n",
      "10/10 [==============================] - 62s 6s/step - loss: 0.0783 - accuracy: 0.9625 - precision: 0.9625 - recall: 0.9625 - auc: 0.9963\n",
      "Epoch 20/50\n",
      "10/10 [==============================] - 63s 6s/step - loss: 0.0758 - accuracy: 0.9688 - precision: 0.9630 - recall: 0.9750 - auc: 0.9968\n",
      "Epoch 21/50\n",
      "10/10 [==============================] - 62s 6s/step - loss: 0.0532 - accuracy: 0.9844 - precision: 0.9874 - recall: 0.9812 - auc: 0.9984\n",
      "Epoch 22/50\n",
      "10/10 [==============================] - 62s 6s/step - loss: 0.0914 - accuracy: 0.9719 - precision: 0.9687 - recall: 0.9656 - auc: 0.9949\n",
      "Epoch 23/50\n",
      "10/10 [==============================] - 63s 6s/step - loss: 0.0764 - accuracy: 0.9688 - precision: 0.9716 - recall: 0.9625 - auc: 0.9966\n",
      "Epoch 24/50\n",
      "10/10 [==============================] - 57s 6s/step - loss: 0.0381 - accuracy: 0.9844 - precision: 0.9844 - recall: 0.9875 - auc: 0.9994\n",
      "Epoch 25/50\n",
      "10/10 [==============================] - 45s 4s/step - loss: 0.0607 - accuracy: 0.9781 - precision: 0.9781 - recall: 0.9781 - auc: 0.9978\n",
      "Epoch 26/50\n",
      "10/10 [==============================] - 44s 4s/step - loss: 0.0661 - accuracy: 0.9750 - precision: 0.9781 - recall: 0.9781 - auc: 0.9976\n",
      "Epoch 27/50\n",
      "10/10 [==============================] - 44s 4s/step - loss: 0.0316 - accuracy: 0.9844 - precision: 0.9875 - recall: 0.9875 - auc: 0.9997\n",
      "Epoch 28/50\n",
      "10/10 [==============================] - 44s 4s/step - loss: 0.1257 - accuracy: 0.9625 - precision: 0.9591 - recall: 0.9531 - auc: 0.9910\n",
      "Epoch 29/50\n",
      "10/10 [==============================] - 44s 4s/step - loss: 0.1302 - accuracy: 0.9438 - precision: 0.9438 - recall: 0.9438 - auc: 0.9897\n",
      "Epoch 30/50\n",
      "10/10 [==============================] - 44s 4s/step - loss: 0.0761 - accuracy: 0.9844 - precision: 0.9812 - recall: 0.9781 - auc: 0.9963\n",
      "Epoch 31/50\n",
      "10/10 [==============================] - 45s 4s/step - loss: 0.0584 - accuracy: 0.9750 - precision: 0.9782 - recall: 0.9812 - auc: 0.9985\n",
      "Epoch 32/50\n",
      "10/10 [==============================] - 44s 4s/step - loss: 0.0339 - accuracy: 0.9906 - precision: 0.9968 - recall: 0.9875 - auc: 0.9996\n",
      "Epoch 33/50\n",
      "10/10 [==============================] - 44s 4s/step - loss: 0.0254 - accuracy: 0.9969 - precision: 0.9938 - recall: 0.9969 - auc: 0.9999\n",
      "Epoch 34/50\n",
      "10/10 [==============================] - 44s 4s/step - loss: 0.0349 - accuracy: 0.9844 - precision: 0.9844 - recall: 0.9875 - auc: 0.9994\n",
      "Epoch 35/50\n",
      "10/10 [==============================] - 44s 4s/step - loss: 0.0506 - accuracy: 0.9812 - precision: 0.9905 - recall: 0.9812 - auc: 0.9959\n",
      "Epoch 36/50\n",
      "10/10 [==============================] - 45s 4s/step - loss: 0.0153 - accuracy: 0.9969 - precision: 1.0000 - recall: 0.9969 - auc: 1.0000\n",
      "Epoch 37/50\n",
      "10/10 [==============================] - 45s 4s/step - loss: 0.0137 - accuracy: 0.9969 - precision: 0.9969 - recall: 0.9969 - auc: 0.9999\n",
      "Epoch 38/50\n",
      "10/10 [==============================] - 44s 4s/step - loss: 0.0513 - accuracy: 0.9875 - precision: 0.9845 - recall: 0.9937 - auc: 0.9959\n",
      "Epoch 39/50\n",
      "10/10 [==============================] - 44s 4s/step - loss: 0.0575 - accuracy: 0.9781 - precision: 0.9752 - recall: 0.9844 - auc: 0.9979\n",
      "Epoch 40/50\n",
      "10/10 [==============================] - 44s 4s/step - loss: 0.0254 - accuracy: 0.9937 - precision: 0.9906 - recall: 0.9875 - auc: 0.9998\n",
      "Epoch 41/50\n",
      "10/10 [==============================] - 45s 4s/step - loss: 0.0307 - accuracy: 0.9875 - precision: 0.9875 - recall: 0.9875 - auc: 0.9995\n",
      "Epoch 42/50\n",
      "10/10 [==============================] - 44s 4s/step - loss: 0.0144 - accuracy: 0.9969 - precision: 0.9969 - recall: 0.9937 - auc: 0.9999\n",
      "Epoch 43/50\n",
      "10/10 [==============================] - 44s 4s/step - loss: 0.0180 - accuracy: 0.9969 - precision: 0.9969 - recall: 0.9937 - auc: 0.9998\n",
      "Epoch 44/50\n",
      "10/10 [==============================] - 44s 4s/step - loss: 0.0316 - accuracy: 0.9844 - precision: 0.9874 - recall: 0.9812 - auc: 0.9995\n",
      "Epoch 45/50\n",
      "10/10 [==============================] - 45s 4s/step - loss: 0.0729 - accuracy: 0.9875 - precision: 0.9844 - recall: 0.9875 - auc: 0.9927\n",
      "Epoch 46/50\n",
      "10/10 [==============================] - 44s 4s/step - loss: 0.0276 - accuracy: 0.9937 - precision: 0.9845 - recall: 0.9906 - auc: 0.9997\n",
      "Epoch 47/50\n",
      "10/10 [==============================] - 44s 4s/step - loss: 0.0245 - accuracy: 1.0000 - precision: 1.0000 - recall: 0.9969 - auc: 1.0000\n",
      "Epoch 48/50\n",
      "10/10 [==============================] - 44s 4s/step - loss: 0.0140 - accuracy: 0.9969 - precision: 0.9969 - recall: 0.9969 - auc: 0.9999\n",
      "Epoch 49/50\n",
      "10/10 [==============================] - 45s 4s/step - loss: 0.0085 - accuracy: 0.9969 - precision: 0.9969 - recall: 1.0000 - auc: 1.0000\n",
      "Epoch 50/50\n",
      "10/10 [==============================] - 44s 4s/step - loss: 0.0044 - accuracy: 1.0000 - precision: 1.0000 - recall: 1.0000 - auc: 1.0000\n"
     ]
    }
   ],
   "source": [
    "\n",
    "loss = keras.losses.BinaryCrossentropy()\n",
    "model_cnn.compile(loss= loss, optimizer= 'adam', metrics=['accuracy','Precision','Recall','AUC'])\n",
    "# train the model\n",
    "print(\"[INFO] training model...\")\n",
    "\n",
    "h = model_cnn.fit(x=x_train, y=y_train, epochs=50, batch_size=32)"
   ]
  },
  {
   "cell_type": "code",
   "execution_count": 18,
   "id": "87ca64ad",
   "metadata": {},
   "outputs": [
    {
     "name": "stdout",
     "output_type": "stream",
     "text": [
      "3/3 [==============================] - 18s 3s/step - loss: 0.6904 - accuracy: 0.9125 - precision: 0.9125 - recall: 0.9125 - auc: 0.9447\n",
      "loss= 0.6904028058052063\n",
      "accuracy= 0.9125000238418579\n"
     ]
    }
   ],
   "source": [
    "score = model_cnn.evaluate(x_test, y_test, verbose=1)\n",
    "print('loss=', score[0])\n",
    "print('accuracy=', score[1])\n"
   ]
  },
  {
   "cell_type": "code",
   "execution_count": null,
   "id": "7f73db72",
   "metadata": {},
   "outputs": [],
   "source": []
  }
 ],
 "metadata": {
  "kernelspec": {
   "display_name": "Python 3 (ipykernel)",
   "language": "python",
   "name": "python3"
  },
  "language_info": {
   "codemirror_mode": {
    "name": "ipython",
    "version": 3
   },
   "file_extension": ".py",
   "mimetype": "text/x-python",
   "name": "python",
   "nbconvert_exporter": "python",
   "pygments_lexer": "ipython3",
   "version": "3.9.1"
  }
 },
 "nbformat": 4,
 "nbformat_minor": 5
}
