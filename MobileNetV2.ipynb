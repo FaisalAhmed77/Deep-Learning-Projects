{
 "cells": [
  {
   "cell_type": "code",
   "execution_count": 1,
   "id": "e672616b",
   "metadata": {},
   "outputs": [],
   "source": [
    "# load and display an image with Matplotlib\n",
    "from matplotlib import image\n",
    "from matplotlib import pyplot\n",
    "import matplotlib.pyplot as plt\n",
    "from PIL import Image\n",
    "import pandas as pd\n",
    "import numpy as np\n",
    "import seaborn as sns\n",
    "import glob\n"
   ]
  },
  {
   "cell_type": "code",
   "execution_count": 2,
   "id": "5eec04ee",
   "metadata": {},
   "outputs": [],
   "source": [
    "file = \"C://Users/16823/Desktop/Research Papers/Retinal_Datasets/iChallenge-AMD-Training400/Non-AMD/\" \n",
    "\n",
    "img_file = list(glob.glob1(file, \"*.jpg\"))\n",
    "img = []\n",
    "for i in img_file:\n",
    "    img.append(i)\n",
    "\n",
    "data = []\n",
    "for i in img:\n",
    "    image_path = file + i\n",
    "    gray=Image.open(image_path)\n",
    "    gray_resiz = gray.resize((256, 256))\n",
    "    arr_gray = np.array(gray_resiz)\n",
    "    data.append(arr_gray)\n"
   ]
  },
  {
   "cell_type": "code",
   "execution_count": 3,
   "id": "6bc5da3c",
   "metadata": {},
   "outputs": [],
   "source": [
    "d = np.array(data)\n"
   ]
  },
  {
   "cell_type": "code",
   "execution_count": 4,
   "id": "4a884e3e",
   "metadata": {},
   "outputs": [
    {
     "data": {
      "text/plain": [
       "(311, 256, 256, 3)"
      ]
     },
     "execution_count": 4,
     "metadata": {},
     "output_type": "execute_result"
    }
   ],
   "source": [
    "d.shape"
   ]
  },
  {
   "cell_type": "code",
   "execution_count": 5,
   "id": "67e94c69",
   "metadata": {},
   "outputs": [],
   "source": [
    "file1 = \"C://Users/16823/Desktop/Research Papers/Retinal_Datasets/iChallenge-AMD-Training400/AMD/\" \n",
    "\n",
    "img_file1 = list(glob.glob1(file1, \"*.jpg\"))\n",
    "img1 = []\n",
    "for i in img_file1:\n",
    "    img1.append(i)\n",
    "\n",
    "data1 = []\n",
    "for i in img1:\n",
    "    image_path1 = file1 + i\n",
    "    gray1=Image.open(image_path1)\n",
    "    gray_resiz1 = gray1.resize((256, 256))\n",
    "    arr_gray1 = np.array(gray_resiz1)\n",
    "    data1.append(arr_gray1)\n"
   ]
  },
  {
   "cell_type": "code",
   "execution_count": 6,
   "id": "92b86fcf",
   "metadata": {},
   "outputs": [],
   "source": [
    "d1 = np.array(data1)\n"
   ]
  },
  {
   "cell_type": "code",
   "execution_count": 7,
   "id": "c8c658c6",
   "metadata": {},
   "outputs": [
    {
     "data": {
      "text/plain": [
       "(89, 256, 256, 3)"
      ]
     },
     "execution_count": 7,
     "metadata": {},
     "output_type": "execute_result"
    }
   ],
   "source": [
    "d1.shape"
   ]
  },
  {
   "cell_type": "code",
   "execution_count": 8,
   "id": "43ec1073",
   "metadata": {},
   "outputs": [
    {
     "data": {
      "text/plain": [
       "(400, 256, 256, 3)"
      ]
     },
     "execution_count": 8,
     "metadata": {},
     "output_type": "execute_result"
    }
   ],
   "source": [
    "df = np.concatenate((d, d1), axis = 0)\n",
    "df.shape"
   ]
  },
  {
   "cell_type": "code",
   "execution_count": 9,
   "id": "5f2936f1",
   "metadata": {},
   "outputs": [],
   "source": [
    "d_label = [0]*311\n",
    "d1_label = [1]*89"
   ]
  },
  {
   "cell_type": "code",
   "execution_count": 10,
   "id": "62619bea",
   "metadata": {},
   "outputs": [],
   "source": [
    "y = np.concatenate([d_label, d1_label])\n"
   ]
  },
  {
   "cell_type": "code",
   "execution_count": 11,
   "id": "1989d4a3",
   "metadata": {},
   "outputs": [],
   "source": [
    "import keras\n",
    "from keras.models import Model\n",
    "from keras.layers import Dense, Input\n",
    "from keras.layers import Conv2D, MaxPooling2D, Dropout, Flatten\n",
    "from keras import backend as k\n",
    "from keras.utils import np_utils"
   ]
  },
  {
   "cell_type": "code",
   "execution_count": 12,
   "id": "aec34bd1",
   "metadata": {},
   "outputs": [],
   "source": [
    "# # #Spliting the data in 80:20 training to testing\n",
    "from sklearn.model_selection import train_test_split\n",
    "x_train, x_test, y_train, y_test = train_test_split(df, y, test_size = 0.2, random_state = 0)\n",
    "\n",
    "# x_train = pd.concat([df.iloc[:135, :100], df.iloc[168:303,:100]], axis = 0, ignore_index = True).values\n",
    "# x_test =pd.concat([df.iloc[135:168, :100], df.iloc[303:,:100]], axis = 0, ignore_index = True).values\n",
    "# y_train = pd.concat([df.iloc[:135, 100], df.iloc[168:303,100]], axis = 0, ignore_index = True).values\n",
    "# y_test = pd.concat([df.iloc[135:168, 100], df.iloc[303:, 100]], axis = 0, ignore_index = True).values\n"
   ]
  },
  {
   "cell_type": "code",
   "execution_count": null,
   "id": "13e7aced",
   "metadata": {},
   "outputs": [],
   "source": []
  },
  {
   "cell_type": "code",
   "execution_count": 13,
   "id": "6a490bf0",
   "metadata": {},
   "outputs": [],
   "source": [
    "import keras\n",
    "y_train = keras.utils.np_utils.to_categorical(y_train,2)\n",
    "y_test = keras.utils.np_utils.to_categorical(y_test,2)\n"
   ]
  },
  {
   "cell_type": "code",
   "execution_count": 14,
   "id": "3fa451df",
   "metadata": {},
   "outputs": [
    {
     "data": {
      "text/plain": [
       "(320, 2)"
      ]
     },
     "execution_count": 14,
     "metadata": {},
     "output_type": "execute_result"
    }
   ],
   "source": [
    "y_train.shape"
   ]
  },
  {
   "cell_type": "code",
   "execution_count": 15,
   "id": "bbd2f0b8",
   "metadata": {},
   "outputs": [
    {
     "name": "stdout",
     "output_type": "stream",
     "text": [
      "WARNING:tensorflow:`input_shape` is undefined or non-square, or `rows` is not in [96, 128, 160, 192, 224]. Weights for input shape (224, 224) will be loaded as the default.\n",
      "Model: \"sequential\"\n",
      "_________________________________________________________________\n",
      " Layer (type)                Output Shape              Param #   \n",
      "=================================================================\n",
      " mobilenetv2_1.00_224 (Funct  (None, 8, 8, 1280)       2257984   \n",
      " ional)                                                          \n",
      "                                                                 \n",
      " conv2d (Conv2D)             (None, 6, 6, 64)          737344    \n",
      "                                                                 \n",
      " max_pooling2d (MaxPooling2D  (None, 3, 3, 64)         0         \n",
      " )                                                               \n",
      "                                                                 \n",
      " flatten (Flatten)           (None, 576)               0         \n",
      "                                                                 \n",
      " dense (Dense)               (None, 64)                36928     \n",
      "                                                                 \n",
      " dropout (Dropout)           (None, 64)                0         \n",
      "                                                                 \n",
      " dense_1 (Dense)             (None, 2)                 130       \n",
      "                                                                 \n",
      "=================================================================\n",
      "Total params: 3,032,386\n",
      "Trainable params: 774,402\n",
      "Non-trainable params: 2,257,984\n",
      "_________________________________________________________________\n"
     ]
    }
   ],
   "source": [
    "# Models \n",
    "import tensorflow as tf\n",
    "from tensorflow.keras.layers import Input\n",
    "from tensorflow.keras.layers import Flatten, Dense, Dropout, Conv2D, MaxPooling2D\n",
    "\n",
    "from tensorflow.keras.applications import MobileNetV2\n",
    "model_cnn = tf.keras.models.Sequential([\n",
    "    MobileNetV2(input_shape=(256,256,3), include_top=False),\n",
    "])\n",
    "for layer in model_cnn.layers:\n",
    "  layer.trainable = False\n",
    "\n",
    "model_cnn.add(Conv2D(64, (3,3), activation='relu'))\n",
    "model_cnn.add(MaxPooling2D(2,2))\n",
    "model_cnn.add(Flatten())\n",
    "model_cnn.add(Dense(64, activation='relu'))\n",
    "model_cnn.add(Dropout(0.4))\n",
    "model_cnn.add(Dense(2, activation='sigmoid'))\n",
    "\n",
    "model_cnn.summary()"
   ]
  },
  {
   "cell_type": "code",
   "execution_count": 16,
   "id": "329dac8a",
   "metadata": {},
   "outputs": [
    {
     "data": {
      "image/png": "[encoded data removed]",
      "text/plain": [
       "<IPython.core.display.Image object>"
      ]
     },
     "execution_count": 16,
     "metadata": {},
     "output_type": "execute_result"
    }
   ],
   "source": [
    "from tensorflow.keras.utils import plot_model\n",
    "\n",
    "#model = Model(inputs=[mlp.input, model_cnn.input], outputs=x)\n",
    "\n",
    "plot_model(model_cnn, \"multi_input_and_output_model.png\", show_shapes=True)"
   ]
  },
  {
   "cell_type": "code",
   "execution_count": 17,
   "id": "45cbc76c",
   "metadata": {},
   "outputs": [
    {
     "name": "stdout",
     "output_type": "stream",
     "text": [
      "[INFO] training model...\n",
      "Epoch 1/50\n",
      "10/10 [==============================] - 44s 2s/step - loss: 0.9107 - accuracy: 0.7156 - precision: 0.6741 - recall: 0.6656 - auc: 0.7418\n",
      "Epoch 2/50\n",
      "10/10 [==============================] - 21s 2s/step - loss: 0.5267 - accuracy: 0.7719 - precision: 0.7671 - recall: 0.7719 - auc: 0.8361\n",
      "Epoch 3/50\n",
      "10/10 [==============================] - 21s 2s/step - loss: 0.4268 - accuracy: 0.7812 - precision: 0.7579 - recall: 0.8219 - auc: 0.8795\n",
      "Epoch 4/50\n",
      "10/10 [==============================] - 21s 2s/step - loss: 0.3783 - accuracy: 0.8313 - precision: 0.8102 - recall: 0.8406 - auc: 0.9074\n",
      "Epoch 5/50\n",
      "10/10 [==============================] - 21s 2s/step - loss: 0.3434 - accuracy: 0.8438 - precision: 0.8369 - recall: 0.8500 - auc: 0.9259\n",
      "Epoch 6/50\n",
      "10/10 [==============================] - 26s 3s/step - loss: 0.2920 - accuracy: 0.8531 - precision: 0.8464 - recall: 0.8781 - auc: 0.9487\n",
      "Epoch 7/50\n",
      "10/10 [==============================] - 27s 3s/step - loss: 0.2914 - accuracy: 0.8719 - precision: 0.8504 - recall: 0.9062 - auc: 0.9510\n",
      "Epoch 8/50\n",
      "10/10 [==============================] - 28s 3s/step - loss: 0.2346 - accuracy: 0.9000 - precision: 0.9060 - recall: 0.9031 - auc: 0.9673\n",
      "Epoch 9/50\n",
      "10/10 [==============================] - 31s 3s/step - loss: 0.2654 - accuracy: 0.8719 - precision: 0.8571 - recall: 0.8813 - auc: 0.9566\n",
      "Epoch 10/50\n",
      "10/10 [==============================] - 31s 3s/step - loss: 0.2043 - accuracy: 0.9125 - precision: 0.9122 - recall: 0.9094 - auc: 0.9760\n",
      "Epoch 11/50\n",
      "10/10 [==============================] - 32s 3s/step - loss: 0.1698 - accuracy: 0.9344 - precision: 0.9290 - recall: 0.9406 - auc: 0.9837\n",
      "Epoch 12/50\n",
      "10/10 [==============================] - 31s 3s/step - loss: 0.1229 - accuracy: 0.9594 - precision: 0.9590 - recall: 0.9500 - auc: 0.9940\n",
      "Epoch 13/50\n",
      "10/10 [==============================] - 32s 3s/step - loss: 0.1125 - accuracy: 0.9625 - precision: 0.9563 - recall: 0.9563 - auc: 0.9942\n",
      "Epoch 14/50\n",
      "10/10 [==============================] - 35s 4s/step - loss: 0.1338 - accuracy: 0.9563 - precision: 0.9497 - recall: 0.9438 - auc: 0.9896\n",
      "Epoch 15/50\n",
      "10/10 [==============================] - 36s 4s/step - loss: 0.0949 - accuracy: 0.9750 - precision: 0.9688 - recall: 0.9719 - auc: 0.9948\n",
      "Epoch 16/50\n",
      "10/10 [==============================] - 35s 3s/step - loss: 0.0691 - accuracy: 0.9844 - precision: 0.9814 - recall: 0.9875 - auc: 0.9990\n",
      "Epoch 17/50\n",
      "10/10 [==============================] - 36s 4s/step - loss: 0.0452 - accuracy: 0.9969 - precision: 0.9907 - recall: 0.9969 - auc: 0.9999\n",
      "Epoch 18/50\n",
      "10/10 [==============================] - 35s 4s/step - loss: 0.0367 - accuracy: 0.9969 - precision: 0.9969 - recall: 0.9937 - auc: 0.9999\n",
      "Epoch 19/50\n",
      "10/10 [==============================] - 36s 4s/step - loss: 0.0304 - accuracy: 0.9969 - precision: 0.9969 - recall: 0.9969 - auc: 0.9999\n",
      "Epoch 20/50\n",
      "10/10 [==============================] - 36s 4s/step - loss: 0.0307 - accuracy: 0.9937 - precision: 0.9937 - recall: 0.9937 - auc: 0.9997\n",
      "Epoch 21/50\n",
      "10/10 [==============================] - 36s 4s/step - loss: 0.0233 - accuracy: 0.9969 - precision: 1.0000 - recall: 0.9969 - auc: 1.0000\n",
      "Epoch 22/50\n",
      "10/10 [==============================] - 36s 4s/step - loss: 0.0245 - accuracy: 0.9969 - precision: 0.9969 - recall: 0.9969 - auc: 0.9998\n",
      "Epoch 23/50\n",
      "10/10 [==============================] - 37s 4s/step - loss: 0.0169 - accuracy: 0.9969 - precision: 0.9969 - recall: 1.0000 - auc: 1.0000\n",
      "Epoch 24/50\n",
      "10/10 [==============================] - 35s 3s/step - loss: 0.0111 - accuracy: 1.0000 - precision: 1.0000 - recall: 1.0000 - auc: 1.0000\n",
      "Epoch 25/50\n",
      "10/10 [==============================] - 36s 4s/step - loss: 0.0093 - accuracy: 1.0000 - precision: 1.0000 - recall: 1.0000 - auc: 1.0000\n",
      "Epoch 26/50\n",
      "10/10 [==============================] - 36s 4s/step - loss: 0.0168 - accuracy: 0.9969 - precision: 0.9969 - recall: 1.0000 - auc: 1.0000\n",
      "Epoch 27/50\n",
      "10/10 [==============================] - 36s 4s/step - loss: 0.0131 - accuracy: 1.0000 - precision: 1.0000 - recall: 0.9937 - auc: 1.0000\n",
      "Epoch 28/50\n",
      "10/10 [==============================] - 35s 4s/step - loss: 0.0119 - accuracy: 1.0000 - precision: 1.0000 - recall: 0.9969 - auc: 1.0000\n",
      "Epoch 29/50\n",
      "10/10 [==============================] - 36s 4s/step - loss: 0.0145 - accuracy: 0.9937 - precision: 1.0000 - recall: 0.9937 - auc: 1.0000\n",
      "Epoch 30/50\n",
      "10/10 [==============================] - 37s 4s/step - loss: 0.0080 - accuracy: 1.0000 - precision: 1.0000 - recall: 1.0000 - auc: 1.0000\n",
      "Epoch 31/50\n",
      "10/10 [==============================] - 35s 4s/step - loss: 0.0072 - accuracy: 1.0000 - precision: 1.0000 - recall: 1.0000 - auc: 1.0000\n",
      "Epoch 32/50\n",
      "10/10 [==============================] - 37s 4s/step - loss: 0.0081 - accuracy: 1.0000 - precision: 1.0000 - recall: 0.9937 - auc: 1.0000\n",
      "Epoch 33/50\n",
      "10/10 [==============================] - 36s 4s/step - loss: 0.0043 - accuracy: 1.0000 - precision: 1.0000 - recall: 1.0000 - auc: 1.0000\n",
      "Epoch 34/50\n",
      "10/10 [==============================] - 37s 4s/step - loss: 0.0043 - accuracy: 1.0000 - precision: 1.0000 - recall: 1.0000 - auc: 1.0000\n",
      "Epoch 35/50\n",
      "10/10 [==============================] - 35s 4s/step - loss: 0.0082 - accuracy: 1.0000 - precision: 1.0000 - recall: 1.0000 - auc: 1.0000\n",
      "Epoch 36/50\n",
      "10/10 [==============================] - 36s 4s/step - loss: 0.0036 - accuracy: 1.0000 - precision: 1.0000 - recall: 1.0000 - auc: 1.0000\n",
      "Epoch 37/50\n",
      "10/10 [==============================] - 35s 4s/step - loss: 0.0037 - accuracy: 1.0000 - precision: 1.0000 - recall: 1.0000 - auc: 1.0000\n",
      "Epoch 38/50\n",
      "10/10 [==============================] - 36s 4s/step - loss: 0.0018 - accuracy: 1.0000 - precision: 1.0000 - recall: 1.0000 - auc: 1.0000\n",
      "Epoch 39/50\n",
      "10/10 [==============================] - 37s 4s/step - loss: 0.0022 - accuracy: 1.0000 - precision: 1.0000 - recall: 1.0000 - auc: 1.0000\n",
      "Epoch 40/50\n",
      "10/10 [==============================] - 37s 4s/step - loss: 0.0034 - accuracy: 1.0000 - precision: 1.0000 - recall: 1.0000 - auc: 1.0000\n",
      "Epoch 41/50\n",
      "10/10 [==============================] - 35s 4s/step - loss: 0.0084 - accuracy: 0.9937 - precision: 1.0000 - recall: 0.9937 - auc: 0.9999\n",
      "Epoch 42/50\n",
      "10/10 [==============================] - 37s 4s/step - loss: 0.0045 - accuracy: 1.0000 - precision: 1.0000 - recall: 1.0000 - auc: 1.0000\n",
      "Epoch 43/50\n",
      "10/10 [==============================] - 36s 4s/step - loss: 0.0181 - accuracy: 0.9937 - precision: 0.9969 - recall: 0.9906 - auc: 0.9998\n",
      "Epoch 44/50\n",
      "10/10 [==============================] - 36s 4s/step - loss: 0.0130 - accuracy: 1.0000 - precision: 1.0000 - recall: 1.0000 - auc: 1.0000\n",
      "Epoch 45/50\n",
      "10/10 [==============================] - 35s 4s/step - loss: 0.0073 - accuracy: 1.0000 - precision: 1.0000 - recall: 1.0000 - auc: 1.0000\n",
      "Epoch 46/50\n",
      "10/10 [==============================] - 36s 4s/step - loss: 0.0061 - accuracy: 1.0000 - precision: 1.0000 - recall: 1.0000 - auc: 1.0000\n",
      "Epoch 47/50\n",
      "10/10 [==============================] - 36s 4s/step - loss: 0.0034 - accuracy: 1.0000 - precision: 1.0000 - recall: 1.0000 - auc: 1.0000\n",
      "Epoch 48/50\n",
      "10/10 [==============================] - 36s 4s/step - loss: 0.0057 - accuracy: 1.0000 - precision: 1.0000 - recall: 0.9969 - auc: 1.0000\n",
      "Epoch 49/50\n",
      "10/10 [==============================] - 36s 4s/step - loss: 0.0030 - accuracy: 1.0000 - precision: 1.0000 - recall: 1.0000 - auc: 1.0000\n",
      "Epoch 50/50\n",
      "10/10 [==============================] - 35s 4s/step - loss: 0.0038 - accuracy: 1.0000 - precision: 1.0000 - recall: 1.0000 - auc: 1.0000\n"
     ]
    }
   ],
   "source": [
    "\n",
    "loss = keras.losses.BinaryCrossentropy()\n",
    "model_cnn.compile(loss= loss, optimizer= 'adam', metrics=['accuracy','Precision','Recall','AUC'])\n",
    "# train the model\n",
    "print(\"[INFO] training model...\")\n",
    "\n",
    "h = model_cnn.fit(x=x_train, y=y_train, epochs=50, batch_size=32)"
   ]
  },
  {
   "cell_type": "code",
   "execution_count": 18,
   "id": "87ca64ad",
   "metadata": {},
   "outputs": [
    {
     "name": "stdout",
     "output_type": "stream",
     "text": [
      "3/3 [==============================] - 28s 3s/step - loss: 1.1459 - accuracy: 0.8500 - precision: 0.8519 - recall: 0.8625 - auc: 0.9056\n",
      "loss= 1.1459413766860962\n",
      "accuracy= 0.8500000238418579\n"
     ]
    }
   ],
   "source": [
    "score = model_cnn.evaluate(x_test, y_test, verbose=1)\n",
    "print('loss=', score[0])\n",
    "print('accuracy=', score[1])\n"
   ]
  },
  {
   "cell_type": "code",
   "execution_count": null,
   "id": "7f73db72",
   "metadata": {},
   "outputs": [],
   "source": []
  }
 ],
 "metadata": {
  "kernelspec": {
   "display_name": "Python 3 (ipykernel)",
   "language": "python",
   "name": "python3"
  },
  "language_info": {
   "codemirror_mode": {
    "name": "ipython",
    "version": 3
   },
   "file_extension": ".py",
   "mimetype": "text/x-python",
   "name": "python",
   "nbconvert_exporter": "python",
   "pygments_lexer": "ipython3",
   "version": "3.9.1"
  }
 },
 "nbformat": 4,
 "nbformat_minor": 5
}
