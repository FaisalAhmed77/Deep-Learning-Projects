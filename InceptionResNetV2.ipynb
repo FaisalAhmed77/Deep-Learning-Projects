{
 "cells": [
  {
   "cell_type": "code",
   "execution_count": 18,
   "id": "e672616b",
   "metadata": {},
   "outputs": [],
   "source": [
    "# load and display an image with Matplotlib\n",
    "from matplotlib import image\n",
    "from matplotlib import pyplot\n",
    "import matplotlib.pyplot as plt\n",
    "from PIL import Image\n",
    "import pandas as pd\n",
    "import numpy as np\n",
    "import seaborn as sns\n",
    "import glob\n"
   ]
  },
  {
   "cell_type": "code",
   "execution_count": 19,
   "id": "5eec04ee",
   "metadata": {},
   "outputs": [],
   "source": [
    "file = \"C://Users/16823/Desktop/Research Papers/Retinal_Datasets/iChallenge-AMD-Training400/Non-AMD/\" \n",
    "\n",
    "img_file = list(glob.glob1(file, \"*.jpg\"))\n",
    "img = []\n",
    "for i in img_file:\n",
    "    img.append(i)\n",
    "\n",
    "data = []\n",
    "for i in img:\n",
    "    image_path = file + i\n",
    "    gray=Image.open(image_path)\n",
    "    gray_resiz = gray.resize((256, 256))\n",
    "    arr_gray = np.array(gray_resiz)\n",
    "    data.append(arr_gray)\n"
   ]
  },
  {
   "cell_type": "code",
   "execution_count": 20,
   "id": "6bc5da3c",
   "metadata": {},
   "outputs": [],
   "source": [
    "d = np.array(data)\n"
   ]
  },
  {
   "cell_type": "code",
   "execution_count": 21,
   "id": "4a884e3e",
   "metadata": {},
   "outputs": [
    {
     "data": {
      "text/plain": [
       "(311, 256, 256, 3)"
      ]
     },
     "execution_count": 21,
     "metadata": {},
     "output_type": "execute_result"
    }
   ],
   "source": [
    "d.shape"
   ]
  },
  {
   "cell_type": "code",
   "execution_count": 22,
   "id": "67e94c69",
   "metadata": {},
   "outputs": [],
   "source": [
    "file1 = \"C://Users/16823/Desktop/Research Papers/Retinal_Datasets/iChallenge-AMD-Training400/AMD/\" \n",
    "\n",
    "img_file1 = list(glob.glob1(file1, \"*.jpg\"))\n",
    "img1 = []\n",
    "for i in img_file1:\n",
    "    img1.append(i)\n",
    "\n",
    "data1 = []\n",
    "for i in img1:\n",
    "    image_path1 = file1 + i\n",
    "    gray1=Image.open(image_path1)\n",
    "    gray_resiz1 = gray1.resize((256, 256))\n",
    "    arr_gray1 = np.array(gray_resiz1)\n",
    "    data1.append(arr_gray1)\n"
   ]
  },
  {
   "cell_type": "code",
   "execution_count": 23,
   "id": "92b86fcf",
   "metadata": {},
   "outputs": [],
   "source": [
    "d1 = np.array(data1)\n"
   ]
  },
  {
   "cell_type": "code",
   "execution_count": 24,
   "id": "c8c658c6",
   "metadata": {},
   "outputs": [
    {
     "data": {
      "text/plain": [
       "(89, 256, 256, 3)"
      ]
     },
     "execution_count": 24,
     "metadata": {},
     "output_type": "execute_result"
    }
   ],
   "source": [
    "d1.shape"
   ]
  },
  {
   "cell_type": "code",
   "execution_count": 25,
   "id": "43ec1073",
   "metadata": {},
   "outputs": [
    {
     "data": {
      "text/plain": [
       "(400, 256, 256, 3)"
      ]
     },
     "execution_count": 25,
     "metadata": {},
     "output_type": "execute_result"
    }
   ],
   "source": [
    "df = np.concatenate((d, d1), axis = 0)\n",
    "df.shape"
   ]
  },
  {
   "cell_type": "code",
   "execution_count": 26,
   "id": "5f2936f1",
   "metadata": {},
   "outputs": [],
   "source": [
    "d_label = [0]*311\n",
    "d1_label = [1]*89"
   ]
  },
  {
   "cell_type": "code",
   "execution_count": 27,
   "id": "62619bea",
   "metadata": {},
   "outputs": [],
   "source": [
    "y = np.concatenate([d_label, d1_label])\n"
   ]
  },
  {
   "cell_type": "code",
   "execution_count": 28,
   "id": "1989d4a3",
   "metadata": {},
   "outputs": [],
   "source": [
    "import keras\n",
    "from keras.models import Model\n",
    "from keras.layers import Dense, Input\n",
    "from keras.layers import Conv2D, MaxPooling2D, Dropout, Flatten\n",
    "from keras import backend as k\n",
    "from keras.utils import np_utils"
   ]
  },
  {
   "cell_type": "code",
   "execution_count": 29,
   "id": "aec34bd1",
   "metadata": {},
   "outputs": [],
   "source": [
    "# # #Spliting the data in 80:20 training to testing\n",
    "from sklearn.model_selection import train_test_split\n",
    "x_train, x_test, y_train, y_test = train_test_split(df, y, test_size = 0.2, random_state = 0)\n",
    "\n",
    "# x_train = pd.concat([df.iloc[:135, :100], df.iloc[168:303,:100]], axis = 0, ignore_index = True).values\n",
    "# x_test =pd.concat([df.iloc[135:168, :100], df.iloc[303:,:100]], axis = 0, ignore_index = True).values\n",
    "# y_train = pd.concat([df.iloc[:135, 100], df.iloc[168:303,100]], axis = 0, ignore_index = True).values\n",
    "# y_test = pd.concat([df.iloc[135:168, 100], df.iloc[303:, 100]], axis = 0, ignore_index = True).values\n"
   ]
  },
  {
   "cell_type": "code",
   "execution_count": null,
   "id": "13e7aced",
   "metadata": {},
   "outputs": [],
   "source": []
  },
  {
   "cell_type": "code",
   "execution_count": 30,
   "id": "6a490bf0",
   "metadata": {},
   "outputs": [],
   "source": [
    "import keras\n",
    "y_train = keras.utils.np_utils.to_categorical(y_train,2)\n",
    "y_test = keras.utils.np_utils.to_categorical(y_test,2)\n"
   ]
  },
  {
   "cell_type": "code",
   "execution_count": 31,
   "id": "3fa451df",
   "metadata": {},
   "outputs": [
    {
     "data": {
      "text/plain": [
       "(320, 2)"
      ]
     },
     "execution_count": 31,
     "metadata": {},
     "output_type": "execute_result"
    }
   ],
   "source": [
    "y_train.shape"
   ]
  },
  {
   "cell_type": "code",
   "execution_count": 32,
   "id": "bbd2f0b8",
   "metadata": {},
   "outputs": [
    {
     "name": "stdout",
     "output_type": "stream",
     "text": [
      "Model: \"sequential_1\"\n",
      "_________________________________________________________________\n",
      " Layer (type)                Output Shape              Param #   \n",
      "=================================================================\n",
      " inception_resnet_v2 (Functi  (None, 6, 6, 1536)       54336736  \n",
      " onal)                                                           \n",
      "                                                                 \n",
      " conv2d_407 (Conv2D)         (None, 4, 4, 64)          884800    \n",
      "                                                                 \n",
      " max_pooling2d_9 (MaxPooling  (None, 2, 2, 64)         0         \n",
      " 2D)                                                             \n",
      "                                                                 \n",
      " flatten_1 (Flatten)         (None, 256)               0         \n",
      "                                                                 \n",
      " dense_2 (Dense)             (None, 64)                16448     \n",
      "                                                                 \n",
      " dropout_1 (Dropout)         (None, 64)                0         \n",
      "                                                                 \n",
      " dense_3 (Dense)             (None, 2)                 130       \n",
      "                                                                 \n",
      "=================================================================\n",
      "Total params: 55,238,114\n",
      "Trainable params: 901,378\n",
      "Non-trainable params: 54,336,736\n",
      "_________________________________________________________________\n"
     ]
    }
   ],
   "source": [
    "# Models \n",
    "import tensorflow as tf\n",
    "from tensorflow.keras.layers import Input\n",
    "from tensorflow.keras.layers import Flatten, Dense, Dropout, Conv2D, MaxPooling2D\n",
    "\n",
    "from tensorflow.keras.applications import InceptionResNetV2\n",
    "model_cnn = tf.keras.models.Sequential([\n",
    "    InceptionResNetV2(input_shape=(256,256,3), include_top=False),\n",
    "])\n",
    "for layer in model_cnn.layers:\n",
    "  layer.trainable = False\n",
    "\n",
    "model_cnn.add(Conv2D(64, (3,3), activation='relu'))\n",
    "model_cnn.add(MaxPooling2D(2,2))\n",
    "model_cnn.add(Flatten())\n",
    "model_cnn.add(Dense(64, activation='relu'))\n",
    "model_cnn.add(Dropout(0.4))\n",
    "model_cnn.add(Dense(2, activation='sigmoid'))\n",
    "\n",
    "model_cnn.summary()"
   ]
  },
  {
   "cell_type": "code",
   "execution_count": 33,
   "id": "329dac8a",
   "metadata": {},
   "outputs": [
    {
     "data": {
      "image/png": "[encoded data removed]",
      "text/plain": [
       "<IPython.core.display.Image object>"
      ]
     },
     "execution_count": 33,
     "metadata": {},
     "output_type": "execute_result"
    }
   ],
   "source": [
    "from tensorflow.keras.utils import plot_model\n",
    "\n",
    "#model = Model(inputs=[mlp.input, model_cnn.input], outputs=x)\n",
    "\n",
    "plot_model(model_cnn, \"multi_input_and_output_model.png\", show_shapes=True)"
   ]
  },
  {
   "cell_type": "code",
   "execution_count": 34,
   "id": "45cbc76c",
   "metadata": {},
   "outputs": [
    {
     "name": "stdout",
     "output_type": "stream",
     "text": [
      "[INFO] training model...\n",
      "Epoch 1/50\n",
      "10/10 [==============================] - 173s 10s/step - loss: 47.9941 - accuracy: 0.6969 - precision: 0.6667 - recall: 0.6500 - auc: 0.6702\n",
      "Epoch 2/50\n",
      "10/10 [==============================] - 101s 10s/step - loss: 7.5049 - accuracy: 0.6187 - precision: 0.5963 - recall: 0.6094 - auc: 0.6512\n",
      "Epoch 3/50\n",
      "10/10 [==============================] - 106s 11s/step - loss: 0.7011 - accuracy: 0.7437 - precision: 0.6437 - recall: 0.8469 - auc: 0.6106\n",
      "Epoch 4/50\n",
      "10/10 [==============================] - 106s 11s/step - loss: 0.6887 - accuracy: 0.7656 - precision: 0.7656 - recall: 0.7656 - auc: 0.7595\n",
      "Epoch 5/50\n",
      "10/10 [==============================] - 101s 10s/step - loss: 0.6842 - accuracy: 0.7656 - precision: 0.7656 - recall: 0.7656 - auc: 0.7766\n",
      "Epoch 6/50\n",
      "10/10 [==============================] - 100s 10s/step - loss: 0.6809 - accuracy: 0.7656 - precision: 0.7656 - recall: 0.7656 - auc: 0.7390\n",
      "Epoch 7/50\n",
      "10/10 [==============================] - 85s 8s/step - loss: 0.6760 - accuracy: 0.7656 - precision: 0.7656 - recall: 0.7656 - auc: 0.7613\n",
      "Epoch 8/50\n",
      "10/10 [==============================] - 72s 7s/step - loss: 0.6718 - accuracy: 0.7656 - precision: 0.7656 - recall: 0.7656 - auc: 0.7836\n",
      "Epoch 9/50\n",
      "10/10 [==============================] - 71s 7s/step - loss: 0.6684 - accuracy: 0.7656 - precision: 0.7656 - recall: 0.7656 - auc: 0.7607\n",
      "Epoch 10/50\n",
      "10/10 [==============================] - 70s 7s/step - loss: 0.6649 - accuracy: 0.7656 - precision: 0.7656 - recall: 0.7656 - auc: 0.7600\n",
      "Epoch 11/50\n",
      "10/10 [==============================] - 70s 7s/step - loss: 0.6616 - accuracy: 0.7656 - precision: 0.7656 - recall: 0.7656 - auc: 0.7490\n",
      "Epoch 12/50\n",
      "10/10 [==============================] - 70s 7s/step - loss: 0.6565 - accuracy: 0.7656 - precision: 0.7656 - recall: 0.7656 - auc: 0.7662\n",
      "Epoch 13/50\n",
      "10/10 [==============================] - 71s 7s/step - loss: 0.6546 - accuracy: 0.7656 - precision: 0.7656 - recall: 0.7656 - auc: 0.7538\n",
      "Epoch 14/50\n",
      "10/10 [==============================] - 70s 7s/step - loss: 0.6509 - accuracy: 0.7656 - precision: 0.7656 - recall: 0.7656 - auc: 0.7562\n",
      "Epoch 15/50\n",
      "10/10 [==============================] - 71s 7s/step - loss: 0.6477 - accuracy: 0.7656 - precision: 0.7656 - recall: 0.7656 - auc: 0.7695\n",
      "Epoch 16/50\n",
      "10/10 [==============================] - 70s 7s/step - loss: 0.6451 - accuracy: 0.7656 - precision: 0.7656 - recall: 0.7656 - auc: 0.7563\n",
      "Epoch 17/50\n",
      "10/10 [==============================] - 71s 7s/step - loss: 0.6415 - accuracy: 0.7656 - precision: 0.7656 - recall: 0.7656 - auc: 0.7602\n",
      "Epoch 18/50\n",
      "10/10 [==============================] - 71s 7s/step - loss: 0.6372 - accuracy: 0.7656 - precision: 0.7656 - recall: 0.7656 - auc: 0.7753\n",
      "Epoch 19/50\n",
      "10/10 [==============================] - 71s 7s/step - loss: 0.6333 - accuracy: 0.7656 - precision: 0.7656 - recall: 0.7656 - auc: 0.7854\n",
      "Epoch 20/50\n",
      "10/10 [==============================] - 71s 7s/step - loss: 0.6321 - accuracy: 0.7656 - precision: 0.7656 - recall: 0.7656 - auc: 0.7540\n",
      "Epoch 21/50\n",
      "10/10 [==============================] - 70s 7s/step - loss: 0.6288 - accuracy: 0.7656 - precision: 0.7656 - recall: 0.7656 - auc: 0.7613\n",
      "Epoch 22/50\n",
      "10/10 [==============================] - 70s 7s/step - loss: 0.6251 - accuracy: 0.7656 - precision: 0.7656 - recall: 0.7656 - auc: 0.7685\n",
      "Epoch 23/50\n",
      "10/10 [==============================] - 70s 7s/step - loss: 0.6190 - accuracy: 0.7656 - precision: 0.7656 - recall: 0.7656 - auc: 0.7852\n",
      "Epoch 24/50\n",
      "10/10 [==============================] - 71s 7s/step - loss: 0.6213 - accuracy: 0.7656 - precision: 0.7656 - recall: 0.7656 - auc: 0.7503\n",
      "Epoch 25/50\n",
      "10/10 [==============================] - 72s 7s/step - loss: 0.6173 - accuracy: 0.7656 - precision: 0.7656 - recall: 0.7656 - auc: 0.7584\n",
      "Epoch 26/50\n",
      "10/10 [==============================] - 72s 7s/step - loss: 0.6123 - accuracy: 0.7656 - precision: 0.7656 - recall: 0.7656 - auc: 0.7809\n",
      "Epoch 27/50\n",
      "10/10 [==============================] - 71s 7s/step - loss: 0.6102 - accuracy: 0.7656 - precision: 0.7656 - recall: 0.7656 - auc: 0.7794\n",
      "Epoch 28/50\n",
      "10/10 [==============================] - 70s 7s/step - loss: 0.6076 - accuracy: 0.7656 - precision: 0.7656 - recall: 0.7656 - auc: 0.7718\n",
      "Epoch 29/50\n",
      "10/10 [==============================] - 71s 7s/step - loss: 0.6054 - accuracy: 0.7656 - precision: 0.7656 - recall: 0.7656 - auc: 0.7697\n",
      "Epoch 30/50\n",
      "10/10 [==============================] - 72s 7s/step - loss: 0.6070 - accuracy: 0.7656 - precision: 0.7656 - recall: 0.7656 - auc: 0.7527\n",
      "Epoch 31/50\n",
      "10/10 [==============================] - 71s 7s/step - loss: 0.5999 - accuracy: 0.7656 - precision: 0.7656 - recall: 0.7656 - auc: 0.7755\n",
      "Epoch 32/50\n",
      "10/10 [==============================] - 71s 7s/step - loss: 0.6020 - accuracy: 0.7656 - precision: 0.7656 - recall: 0.7656 - auc: 0.7493\n",
      "Epoch 33/50\n",
      "10/10 [==============================] - 72s 7s/step - loss: 0.5868 - accuracy: 0.7656 - precision: 0.7656 - recall: 0.7656 - auc: 0.8044\n",
      "Epoch 34/50\n",
      "10/10 [==============================] - 74s 7s/step - loss: 0.6019 - accuracy: 0.7656 - precision: 0.7656 - recall: 0.7656 - auc: 0.7283\n",
      "Epoch 35/50\n",
      "10/10 [==============================] - 72s 7s/step - loss: 0.5893 - accuracy: 0.7656 - precision: 0.7656 - recall: 0.7656 - auc: 0.7763\n",
      "Epoch 36/50\n",
      "10/10 [==============================] - 70s 7s/step - loss: 0.5912 - accuracy: 0.7656 - precision: 0.7656 - recall: 0.7656 - auc: 0.7618\n",
      "Epoch 37/50\n",
      "10/10 [==============================] - 71s 7s/step - loss: 0.5886 - accuracy: 0.7656 - precision: 0.7656 - recall: 0.7656 - auc: 0.7681\n",
      "Epoch 38/50\n",
      "10/10 [==============================] - 70s 7s/step - loss: 0.5851 - accuracy: 0.7656 - precision: 0.7656 - recall: 0.7656 - auc: 0.7698\n",
      "Epoch 39/50\n",
      "10/10 [==============================] - 70s 7s/step - loss: 0.5763 - accuracy: 0.7656 - precision: 0.7656 - recall: 0.7656 - auc: 0.7966\n",
      "Epoch 40/50\n",
      "10/10 [==============================] - 70s 7s/step - loss: 0.5829 - accuracy: 0.7656 - precision: 0.7656 - recall: 0.7656 - auc: 0.7661\n",
      "Epoch 41/50\n",
      "10/10 [==============================] - 74s 7s/step - loss: 0.5821 - accuracy: 0.7656 - precision: 0.7656 - recall: 0.7656 - auc: 0.7643\n",
      "Epoch 42/50\n",
      "10/10 [==============================] - 68s 7s/step - loss: 0.5769 - accuracy: 0.7656 - precision: 0.7656 - recall: 0.7656 - auc: 0.7780\n",
      "Epoch 43/50\n",
      "10/10 [==============================] - 68s 7s/step - loss: 0.5779 - accuracy: 0.7656 - precision: 0.7656 - recall: 0.7656 - auc: 0.7712\n",
      "Epoch 44/50\n",
      "10/10 [==============================] - 69s 7s/step - loss: 0.5739 - accuracy: 0.7656 - precision: 0.7656 - recall: 0.7656 - auc: 0.7712\n",
      "Epoch 45/50\n",
      "10/10 [==============================] - 70s 7s/step - loss: 0.5767 - accuracy: 0.7656 - precision: 0.7656 - recall: 0.7656 - auc: 0.7663\n",
      "Epoch 46/50\n",
      "10/10 [==============================] - 71s 7s/step - loss: 0.5715 - accuracy: 0.7656 - precision: 0.7656 - recall: 0.7656 - auc: 0.7679\n",
      "Epoch 47/50\n",
      "10/10 [==============================] - 70s 7s/step - loss: 0.5747 - accuracy: 0.7656 - precision: 0.7656 - recall: 0.7656 - auc: 0.7613\n",
      "Epoch 48/50\n",
      "10/10 [==============================] - 70s 7s/step - loss: 0.5675 - accuracy: 0.7656 - precision: 0.7656 - recall: 0.7656 - auc: 0.7806\n",
      "Epoch 49/50\n",
      "10/10 [==============================] - 71s 7s/step - loss: 0.5618 - accuracy: 0.7656 - precision: 0.7656 - recall: 0.7656 - auc: 0.7885\n",
      "Epoch 50/50\n",
      "10/10 [==============================] - 71s 7s/step - loss: 0.5628 - accuracy: 0.7656 - precision: 0.7656 - recall: 0.7656 - auc: 0.7764\n"
     ]
    }
   ],
   "source": [
    "\n",
    "loss = keras.losses.BinaryCrossentropy()\n",
    "model_cnn.compile(loss= loss, optimizer= 'adam', metrics=['accuracy','Precision','Recall','AUC'])\n",
    "# train the model\n",
    "print(\"[INFO] training model...\")\n",
    "\n",
    "h = model_cnn.fit(x=x_train, y=y_train, epochs=50, batch_size=32)"
   ]
  },
  {
   "cell_type": "code",
   "execution_count": 35,
   "id": "87ca64ad",
   "metadata": {},
   "outputs": [
    {
     "name": "stdout",
     "output_type": "stream",
     "text": [
      "3/3 [==============================] - 26s 5s/step - loss: 0.5209 - accuracy: 0.8250 - precision: 0.8250 - recall: 0.8250 - auc: 0.8250\n",
      "loss= 0.5209482908248901\n",
      "accuracy= 0.824999988079071\n"
     ]
    }
   ],
   "source": [
    "score = model_cnn.evaluate(x_test, y_test, verbose=1)\n",
    "print('loss=', score[0])\n",
    "print('accuracy=', score[1])\n"
   ]
  },
  {
   "cell_type": "code",
   "execution_count": null,
   "id": "7f73db72",
   "metadata": {},
   "outputs": [],
   "source": []
  }
 ],
 "metadata": {
  "kernelspec": {
   "display_name": "Python 3 (ipykernel)",
   "language": "python",
   "name": "python3"
  },
  "language_info": {
   "codemirror_mode": {
    "name": "ipython",
    "version": 3
   },
   "file_extension": ".py",
   "mimetype": "text/x-python",
   "name": "python",
   "nbconvert_exporter": "python",
   "pygments_lexer": "ipython3",
   "version": "3.9.1"
  }
 },
 "nbformat": 4,
 "nbformat_minor": 5
}
