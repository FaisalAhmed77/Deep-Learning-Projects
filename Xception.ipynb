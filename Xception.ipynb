{
 "cells": [
  {
   "cell_type": "code",
   "execution_count": 1,
   "id": "e672616b",
   "metadata": {},
   "outputs": [],
   "source": [
    "# load and display an image with Matplotlib\n",
    "from matplotlib import image\n",
    "from matplotlib import pyplot\n",
    "import matplotlib.pyplot as plt\n",
    "from PIL import Image\n",
    "import pandas as pd\n",
    "import numpy as np\n",
    "import seaborn as sns\n",
    "import glob\n"
   ]
  },
  {
   "cell_type": "code",
   "execution_count": 2,
   "id": "5eec04ee",
   "metadata": {},
   "outputs": [],
   "source": [
    "file = \"C://Users/16823/Desktop/Research Papers/Retinal_Datasets/iChallenge-AMD-Training400/Non-AMD/\" \n",
    "\n",
    "img_file = list(glob.glob1(file, \"*.jpg\"))\n",
    "img = []\n",
    "for i in img_file:\n",
    "    img.append(i)\n",
    "\n",
    "data = []\n",
    "for i in img:\n",
    "    image_path = file + i\n",
    "    gray=Image.open(image_path)\n",
    "    gray_resiz = gray.resize((256, 256))\n",
    "    arr_gray = np.array(gray_resiz)\n",
    "    data.append(arr_gray)\n"
   ]
  },
  {
   "cell_type": "code",
   "execution_count": 3,
   "id": "6bc5da3c",
   "metadata": {},
   "outputs": [],
   "source": [
    "d = np.array(data)\n"
   ]
  },
  {
   "cell_type": "code",
   "execution_count": 4,
   "id": "4a884e3e",
   "metadata": {},
   "outputs": [
    {
     "data": {
      "text/plain": [
       "(311, 256, 256, 3)"
      ]
     },
     "execution_count": 4,
     "metadata": {},
     "output_type": "execute_result"
    }
   ],
   "source": [
    "d.shape"
   ]
  },
  {
   "cell_type": "code",
   "execution_count": 5,
   "id": "67e94c69",
   "metadata": {},
   "outputs": [],
   "source": [
    "file1 = \"C://Users/16823/Desktop/Research Papers/Retinal_Datasets/iChallenge-AMD-Training400/AMD/\" \n",
    "\n",
    "img_file1 = list(glob.glob1(file1, \"*.jpg\"))\n",
    "img1 = []\n",
    "for i in img_file1:\n",
    "    img1.append(i)\n",
    "\n",
    "data1 = []\n",
    "for i in img1:\n",
    "    image_path1 = file1 + i\n",
    "    gray1=Image.open(image_path1)\n",
    "    gray_resiz1 = gray1.resize((256, 256))\n",
    "    arr_gray1 = np.array(gray_resiz1)\n",
    "    data1.append(arr_gray1)\n"
   ]
  },
  {
   "cell_type": "code",
   "execution_count": 6,
   "id": "92b86fcf",
   "metadata": {},
   "outputs": [],
   "source": [
    "d1 = np.array(data1)\n"
   ]
  },
  {
   "cell_type": "code",
   "execution_count": 7,
   "id": "c8c658c6",
   "metadata": {},
   "outputs": [
    {
     "data": {
      "text/plain": [
       "(89, 256, 256, 3)"
      ]
     },
     "execution_count": 7,
     "metadata": {},
     "output_type": "execute_result"
    }
   ],
   "source": [
    "d1.shape"
   ]
  },
  {
   "cell_type": "code",
   "execution_count": 8,
   "id": "43ec1073",
   "metadata": {},
   "outputs": [
    {
     "data": {
      "text/plain": [
       "(400, 256, 256, 3)"
      ]
     },
     "execution_count": 8,
     "metadata": {},
     "output_type": "execute_result"
    }
   ],
   "source": [
    "df = np.concatenate((d, d1), axis = 0)\n",
    "df.shape"
   ]
  },
  {
   "cell_type": "code",
   "execution_count": 9,
   "id": "5f2936f1",
   "metadata": {},
   "outputs": [],
   "source": [
    "d_label = [0]*311\n",
    "d1_label = [1]*89"
   ]
  },
  {
   "cell_type": "code",
   "execution_count": 10,
   "id": "62619bea",
   "metadata": {},
   "outputs": [],
   "source": [
    "y = np.concatenate([d_label, d1_label])\n"
   ]
  },
  {
   "cell_type": "code",
   "execution_count": 11,
   "id": "1989d4a3",
   "metadata": {},
   "outputs": [],
   "source": [
    "import keras\n",
    "from keras.models import Model\n",
    "from keras.layers import Dense, Input\n",
    "from keras.layers import Conv2D, MaxPooling2D, Dropout, Flatten\n",
    "from keras import backend as k\n",
    "from keras.utils import np_utils"
   ]
  },
  {
   "cell_type": "code",
   "execution_count": 12,
   "id": "aec34bd1",
   "metadata": {},
   "outputs": [],
   "source": [
    "# # #Spliting the data in 80:20 training to testing\n",
    "from sklearn.model_selection import train_test_split\n",
    "x_train, x_test, y_train, y_test = train_test_split(df, y, test_size = 0.2, random_state = 0)\n",
    "\n",
    "# x_train = pd.concat([df.iloc[:135, :100], df.iloc[168:303,:100]], axis = 0, ignore_index = True).values\n",
    "# x_test =pd.concat([df.iloc[135:168, :100], df.iloc[303:,:100]], axis = 0, ignore_index = True).values\n",
    "# y_train = pd.concat([df.iloc[:135, 100], df.iloc[168:303,100]], axis = 0, ignore_index = True).values\n",
    "# y_test = pd.concat([df.iloc[135:168, 100], df.iloc[303:, 100]], axis = 0, ignore_index = True).values\n"
   ]
  },
  {
   "cell_type": "code",
   "execution_count": null,
   "id": "13e7aced",
   "metadata": {},
   "outputs": [],
   "source": []
  },
  {
   "cell_type": "code",
   "execution_count": 13,
   "id": "6a490bf0",
   "metadata": {},
   "outputs": [],
   "source": [
    "import keras\n",
    "y_train = keras.utils.np_utils.to_categorical(y_train,2)\n",
    "y_test = keras.utils.np_utils.to_categorical(y_test,2)\n"
   ]
  },
  {
   "cell_type": "code",
   "execution_count": 14,
   "id": "3fa451df",
   "metadata": {},
   "outputs": [
    {
     "data": {
      "text/plain": [
       "(320, 2)"
      ]
     },
     "execution_count": 14,
     "metadata": {},
     "output_type": "execute_result"
    }
   ],
   "source": [
    "y_train.shape"
   ]
  },
  {
   "cell_type": "code",
   "execution_count": 15,
   "id": "bbd2f0b8",
   "metadata": {},
   "outputs": [
    {
     "name": "stdout",
     "output_type": "stream",
     "text": [
      "Model: \"sequential\"\n",
      "_________________________________________________________________\n",
      " Layer (type)                Output Shape              Param #   \n",
      "=================================================================\n",
      " xception (Functional)       (None, 8, 8, 2048)        20861480  \n",
      "                                                                 \n",
      " conv2d_4 (Conv2D)           (None, 6, 6, 64)          1179712   \n",
      "                                                                 \n",
      " max_pooling2d (MaxPooling2D  (None, 3, 3, 64)         0         \n",
      " )                                                               \n",
      "                                                                 \n",
      " flatten (Flatten)           (None, 576)               0         \n",
      "                                                                 \n",
      " dense (Dense)               (None, 64)                36928     \n",
      "                                                                 \n",
      " dropout (Dropout)           (None, 64)                0         \n",
      "                                                                 \n",
      " dense_1 (Dense)             (None, 2)                 130       \n",
      "                                                                 \n",
      "=================================================================\n",
      "Total params: 22,078,250\n",
      "Trainable params: 1,216,770\n",
      "Non-trainable params: 20,861,480\n",
      "_________________________________________________________________\n"
     ]
    }
   ],
   "source": [
    "# Models \n",
    "import tensorflow as tf\n",
    "from tensorflow.keras.layers import Input\n",
    "from tensorflow.keras.layers import Flatten, Dense, Dropout, Conv2D, MaxPooling2D\n",
    "\n",
    "from tensorflow.keras.applications import Xception\n",
    "model_cnn = tf.keras.models.Sequential([\n",
    "    Xception(input_shape=(256,256,3), include_top=False),\n",
    "])\n",
    "for layer in model_cnn.layers:\n",
    "  layer.trainable = False\n",
    "\n",
    "model_cnn.add(Conv2D(64, (3,3), activation='relu'))\n",
    "model_cnn.add(MaxPooling2D(2,2))\n",
    "model_cnn.add(Flatten())\n",
    "model_cnn.add(Dense(64, activation='relu'))\n",
    "model_cnn.add(Dropout(0.4))\n",
    "model_cnn.add(Dense(2, activation='sigmoid'))\n",
    "\n",
    "model_cnn.summary()"
   ]
  },
  {
   "cell_type": "code",
   "execution_count": 16,
   "id": "329dac8a",
   "metadata": {},
   "outputs": [
    {
     "data": {
      "image/png": "[encoded data removed]",
      "text/plain": [
       "<IPython.core.display.Image object>"
      ]
     },
     "execution_count": 16,
     "metadata": {},
     "output_type": "execute_result"
    }
   ],
   "source": [
    "from tensorflow.keras.utils import plot_model\n",
    "\n",
    "#model = Model(inputs=[mlp.input, model_cnn.input], outputs=x)\n",
    "\n",
    "plot_model(model_cnn, \"multi_input_and_output_model.png\", show_shapes=True)"
   ]
  },
  {
   "cell_type": "code",
   "execution_count": 17,
   "id": "45cbc76c",
   "metadata": {},
   "outputs": [
    {
     "name": "stdout",
     "output_type": "stream",
     "text": [
      "[INFO] training model...\n",
      "Epoch 1/50\n",
      "10/10 [==============================] - 196s 15s/step - loss: 15.1744 - accuracy: 0.6344 - precision: 0.5927 - recall: 0.6094 - auc: 0.6201\n",
      "Epoch 2/50\n",
      "10/10 [==============================] - 151s 15s/step - loss: 2.9905 - accuracy: 0.7219 - precision: 0.6789 - recall: 0.6938 - auc: 0.7203\n",
      "Epoch 3/50\n",
      "10/10 [==============================] - 151s 15s/step - loss: 1.1314 - accuracy: 0.7625 - precision: 0.7331 - recall: 0.7125 - auc: 0.7909\n",
      "Epoch 4/50\n",
      "10/10 [==============================] - 151s 15s/step - loss: 0.7234 - accuracy: 0.7531 - precision: 0.7273 - recall: 0.8000 - auc: 0.8417\n",
      "Epoch 5/50\n",
      "10/10 [==============================] - 152s 15s/step - loss: 0.4538 - accuracy: 0.8188 - precision: 0.7975 - recall: 0.7875 - auc: 0.8707\n",
      "Epoch 6/50\n",
      "10/10 [==============================] - 151s 15s/step - loss: 0.4747 - accuracy: 0.8156 - precision: 0.8185 - recall: 0.7469 - auc: 0.8783\n",
      "Epoch 7/50\n",
      "10/10 [==============================] - 154s 15s/step - loss: 0.4295 - accuracy: 0.8250 - precision: 0.8071 - recall: 0.7844 - auc: 0.8858\n",
      "Epoch 8/50\n",
      "10/10 [==============================] - 154s 15s/step - loss: 0.3753 - accuracy: 0.8375 - precision: 0.8171 - recall: 0.8375 - auc: 0.9157\n",
      "Epoch 9/50\n",
      "10/10 [==============================] - 145s 14s/step - loss: 0.3894 - accuracy: 0.8500 - precision: 0.8428 - recall: 0.8375 - auc: 0.9167\n",
      "Epoch 10/50\n",
      "10/10 [==============================] - 129s 13s/step - loss: 0.3920 - accuracy: 0.8313 - precision: 0.8289 - recall: 0.7875 - auc: 0.9029\n",
      "Epoch 11/50\n",
      "10/10 [==============================] - 129s 13s/step - loss: 0.3587 - accuracy: 0.8156 - precision: 0.8299 - recall: 0.7625 - auc: 0.9137\n",
      "Epoch 12/50\n",
      "10/10 [==============================] - 129s 13s/step - loss: 0.3413 - accuracy: 0.8344 - precision: 0.8850 - recall: 0.7937 - auc: 0.9293\n",
      "Epoch 13/50\n",
      "10/10 [==============================] - 129s 13s/step - loss: 0.3242 - accuracy: 0.8406 - precision: 0.8571 - recall: 0.8062 - auc: 0.9327\n",
      "Epoch 14/50\n",
      "10/10 [==============================] - 129s 13s/step - loss: 0.2939 - accuracy: 0.8594 - precision: 0.8626 - recall: 0.8438 - auc: 0.9450\n",
      "Epoch 15/50\n",
      "10/10 [==============================] - 129s 13s/step - loss: 0.2811 - accuracy: 0.8656 - precision: 0.8754 - recall: 0.8562 - auc: 0.9511\n",
      "Epoch 16/50\n",
      "10/10 [==============================] - 129s 13s/step - loss: 0.3105 - accuracy: 0.8438 - precision: 0.8580 - recall: 0.8500 - auc: 0.9411\n",
      "Epoch 17/50\n",
      "10/10 [==============================] - 131s 13s/step - loss: 0.2657 - accuracy: 0.8969 - precision: 0.9010 - recall: 0.8813 - auc: 0.9615\n",
      "Epoch 18/50\n",
      "10/10 [==============================] - 128s 13s/step - loss: 0.2462 - accuracy: 0.8906 - precision: 0.8900 - recall: 0.8594 - auc: 0.9631\n",
      "Epoch 19/50\n",
      "10/10 [==============================] - 130s 13s/step - loss: 0.2199 - accuracy: 0.8938 - precision: 0.9006 - recall: 0.8781 - auc: 0.9709\n",
      "Epoch 20/50\n",
      "10/10 [==============================] - 131s 13s/step - loss: 0.2059 - accuracy: 0.9312 - precision: 0.9161 - recall: 0.9219 - auc: 0.9762\n",
      "Epoch 21/50\n",
      "10/10 [==============================] - 131s 13s/step - loss: 0.1652 - accuracy: 0.9406 - precision: 0.9363 - recall: 0.9187 - auc: 0.9849\n",
      "Epoch 22/50\n",
      "10/10 [==============================] - 125s 13s/step - loss: 0.1775 - accuracy: 0.9281 - precision: 0.9302 - recall: 0.9156 - auc: 0.9810\n",
      "Epoch 23/50\n",
      "10/10 [==============================] - 105s 10s/step - loss: 0.1994 - accuracy: 0.9125 - precision: 0.9091 - recall: 0.9062 - auc: 0.9758\n",
      "Epoch 24/50\n",
      "10/10 [==============================] - 103s 10s/step - loss: 0.1873 - accuracy: 0.9187 - precision: 0.9226 - recall: 0.8938 - auc: 0.9808\n",
      "Epoch 25/50\n",
      "10/10 [==============================] - 103s 10s/step - loss: 0.1876 - accuracy: 0.9156 - precision: 0.9238 - recall: 0.9094 - auc: 0.9785\n",
      "Epoch 26/50\n",
      "10/10 [==============================] - 106s 11s/step - loss: 0.1431 - accuracy: 0.9531 - precision: 0.9441 - recall: 0.9500 - auc: 0.9901\n",
      "Epoch 27/50\n",
      "10/10 [==============================] - 103s 10s/step - loss: 0.1435 - accuracy: 0.9312 - precision: 0.9200 - recall: 0.9344 - auc: 0.9870\n",
      "Epoch 28/50\n",
      "10/10 [==============================] - 102s 10s/step - loss: 0.1236 - accuracy: 0.9531 - precision: 0.9448 - recall: 0.9625 - auc: 0.9925\n",
      "Epoch 29/50\n",
      "10/10 [==============================] - 103s 10s/step - loss: 0.1305 - accuracy: 0.9500 - precision: 0.9554 - recall: 0.9375 - auc: 0.9896\n",
      "Epoch 30/50\n",
      "10/10 [==============================] - 103s 10s/step - loss: 0.1508 - accuracy: 0.9469 - precision: 0.9467 - recall: 0.9438 - auc: 0.9865\n",
      "Epoch 31/50\n",
      "10/10 [==============================] - 103s 10s/step - loss: 0.1706 - accuracy: 0.9375 - precision: 0.9306 - recall: 0.9219 - auc: 0.9835\n",
      "Epoch 32/50\n",
      "10/10 [==============================] - 103s 10s/step - loss: 0.1709 - accuracy: 0.9187 - precision: 0.9214 - recall: 0.9156 - auc: 0.9811\n",
      "Epoch 33/50\n",
      "10/10 [==============================] - 104s 10s/step - loss: 0.2744 - accuracy: 0.8938 - precision: 0.8815 - recall: 0.9062 - auc: 0.9567\n",
      "Epoch 34/50\n",
      "10/10 [==============================] - 103s 10s/step - loss: 0.1600 - accuracy: 0.9219 - precision: 0.9083 - recall: 0.9281 - auc: 0.9837\n",
      "Epoch 35/50\n",
      "10/10 [==============================] - 104s 10s/step - loss: 0.1710 - accuracy: 0.9250 - precision: 0.9270 - recall: 0.9125 - auc: 0.9818\n",
      "Epoch 36/50\n",
      "10/10 [==============================] - 104s 10s/step - loss: 0.1715 - accuracy: 0.9344 - precision: 0.9342 - recall: 0.9312 - auc: 0.9817\n",
      "Epoch 37/50\n",
      "10/10 [==============================] - 104s 10s/step - loss: 0.0959 - accuracy: 0.9688 - precision: 0.9657 - recall: 0.9688 - auc: 0.9959\n",
      "Epoch 38/50\n",
      "10/10 [==============================] - 89s 9s/step - loss: 0.1026 - accuracy: 0.9625 - precision: 0.9625 - recall: 0.9625 - auc: 0.9939\n",
      "Epoch 39/50\n",
      "10/10 [==============================] - 81s 8s/step - loss: 0.1036 - accuracy: 0.9656 - precision: 0.9684 - recall: 0.9563 - auc: 0.9948\n",
      "Epoch 40/50\n",
      "10/10 [==============================] - 81s 8s/step - loss: 0.0813 - accuracy: 0.9688 - precision: 0.9748 - recall: 0.9688 - auc: 0.9965\n",
      "Epoch 41/50\n",
      "10/10 [==============================] - 82s 8s/step - loss: 0.1002 - accuracy: 0.9469 - precision: 0.9528 - recall: 0.9469 - auc: 0.9939\n",
      "Epoch 42/50\n",
      "10/10 [==============================] - 74s 7s/step - loss: 0.0767 - accuracy: 0.9750 - precision: 0.9781 - recall: 0.9781 - auc: 0.9971\n",
      "Epoch 43/50\n",
      "10/10 [==============================] - 77s 8s/step - loss: 0.1272 - accuracy: 0.9375 - precision: 0.9406 - recall: 0.9406 - auc: 0.9887\n",
      "Epoch 44/50\n",
      "10/10 [==============================] - 80s 8s/step - loss: 0.1042 - accuracy: 0.9594 - precision: 0.9533 - recall: 0.9563 - auc: 0.9945\n",
      "Epoch 45/50\n",
      "10/10 [==============================] - 81s 8s/step - loss: 0.1143 - accuracy: 0.9406 - precision: 0.9432 - recall: 0.9344 - auc: 0.9916\n",
      "Epoch 46/50\n",
      "10/10 [==============================] - 85s 8s/step - loss: 0.0800 - accuracy: 0.9688 - precision: 0.9654 - recall: 0.9594 - auc: 0.9963\n",
      "Epoch 47/50\n",
      "10/10 [==============================] - 85s 8s/step - loss: 0.0724 - accuracy: 0.9719 - precision: 0.9748 - recall: 0.9688 - auc: 0.9967\n",
      "Epoch 48/50\n",
      "10/10 [==============================] - 79s 8s/step - loss: 0.0755 - accuracy: 0.9812 - precision: 0.9751 - recall: 0.9781 - auc: 0.9972\n",
      "Epoch 49/50\n",
      "10/10 [==============================] - 78s 8s/step - loss: 0.0620 - accuracy: 0.9875 - precision: 0.9874 - recall: 0.9812 - auc: 0.9989\n",
      "Epoch 50/50\n",
      "10/10 [==============================] - 79s 8s/step - loss: 0.0426 - accuracy: 0.9906 - precision: 0.9875 - recall: 0.9906 - auc: 0.9993\n"
     ]
    }
   ],
   "source": [
    "\n",
    "loss = keras.losses.BinaryCrossentropy()\n",
    "model_cnn.compile(loss= loss, optimizer= 'adam', metrics=['accuracy','Precision','Recall','AUC'])\n",
    "# train the model\n",
    "print(\"[INFO] training model...\")\n",
    "\n",
    "h = model_cnn.fit(x=x_train, y=y_train, epochs=50, batch_size=32)"
   ]
  },
  {
   "cell_type": "code",
   "execution_count": 18,
   "id": "87ca64ad",
   "metadata": {},
   "outputs": [
    {
     "name": "stdout",
     "output_type": "stream",
     "text": [
      "3/3 [==============================] - 26s 6s/step - loss: 0.6875 - accuracy: 0.9000 - precision: 0.8987 - recall: 0.8875 - auc: 0.9471\n",
      "loss= 0.6875386238098145\n",
      "accuracy= 0.8999999761581421\n"
     ]
    }
   ],
   "source": [
    "score = model_cnn.evaluate(x_test, y_test, verbose=1)\n",
    "print('loss=', score[0])\n",
    "print('accuracy=', score[1])\n"
   ]
  },
  {
   "cell_type": "code",
   "execution_count": null,
   "id": "7f73db72",
   "metadata": {},
   "outputs": [],
   "source": []
  }
 ],
 "metadata": {
  "kernelspec": {
   "display_name": "Python 3 (ipykernel)",
   "language": "python",
   "name": "python3"
  },
  "language_info": {
   "codemirror_mode": {
    "name": "ipython",
    "version": 3
   },
   "file_extension": ".py",
   "mimetype": "text/x-python",
   "name": "python",
   "nbconvert_exporter": "python",
   "pygments_lexer": "ipython3",
   "version": "3.9.1"
  }
 },
 "nbformat": 4,
 "nbformat_minor": 5
}
